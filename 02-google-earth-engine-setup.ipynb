{
 "cells": [
  {
   "cell_type": "markdown",
   "id": "652a9dc1-cece-493b-97ce-c3f1a5597339",
   "metadata": {},
   "source": [
    "##  Google Earth Engine Environment\n",
    "\n",
    "### Create Dedicated GEE Environment\n",
    "\n",
    "```bash\n",
    "# Create a new environment with Python 3.11 (optimal for GEE)\n",
    "conda create -n gee-env python=3.11 -y\n",
    "\n",
    "# Activate the environment\n",
    "conda activate gee-env\n",
    "```\n",
    "\n",
    "### Step 2.2: Core Geospatial Stack Installation\n",
    "\n",
    "```bash\n",
    "# Install core geospatial libraries using mamba (faster than conda)\n",
    "conda install -c conda-forge \\\n",
    "    earthengine-api \\\n",
    "    geemap \\\n",
    "    geopandas \\\n",
    "    rasterio \\\n",
    "    xarray \\\n",
    "    rioxarray \\\n",
    "    folium \\\n",
    "    jupyterlab \\\n",
    "    ipywidgets \\\n",
    "    nodejs \\\n",
    "    -y\n",
    "```"
   ]
  },
  {
   "cell_type": "markdown",
   "id": "31985088-5ce6-4f47-a143-b123b79d56cf",
   "metadata": {},
   "source": [
    "### Earth Engine Authentication\n",
    "\n",
    "Open the command prompt and run the following command:\n",
    "\n",
    "```bash\n",
    "# Authenticate Earth Engine\n",
    "earthengine authenticate\n",
    "```\n",
    "\n",
    "This will:\n",
    "\n",
    "1. Open a browser window\n",
    "2. Ask you to log in with your Google account\n",
    "3. Generate an authentication token\n",
    "4. Save credentials locally\n",
    "\n",
    "# Verify authentication\n",
    "python -c \"import ee; ee.Initialize(); print('Earth Engine initialized successfully!')\""
   ]
  },
  {
   "cell_type": "code",
   "execution_count": null,
   "id": "d0f47706-16c7-4696-88a6-3ac81b1b77b1",
   "metadata": {},
   "outputs": [],
   "source": []
  }
 ],
 "metadata": {
  "kernelspec": {
   "display_name": "Python:3.12",
   "language": "python",
   "name": "python3"
  },
  "language_info": {
   "codemirror_mode": {
    "name": "ipython",
    "version": 3
   },
   "file_extension": ".py",
   "mimetype": "text/x-python",
   "name": "python",
   "nbconvert_exporter": "python",
   "pygments_lexer": "ipython3",
   "version": "3.12.5"
  }
 },
 "nbformat": 4,
 "nbformat_minor": 5
}
