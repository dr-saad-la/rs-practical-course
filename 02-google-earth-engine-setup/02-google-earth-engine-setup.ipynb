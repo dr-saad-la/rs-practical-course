{
 "cells": [
  {
   "cell_type": "markdown",
   "id": "61069a21-9609-4526-af6c-370d02d9c700",
   "metadata": {},
   "source": [
    "<div style=\"font-size:22pt; font-weight:bold; text-align:center;\n",
    "    border: solid gray 2pt; border-radius:5pt; \n",
    "    padding: 6pt;\">\n",
    "    Google Earth Engine Environment Setup </br>\n",
    "    Step-by-Step Breakdown Guide\n",
    "</div>"
   ]
  },
  {
   "cell_type": "markdown",
   "id": "d8feb5a3-cddd-4758-bde9-7b444872f035",
   "metadata": {},
   "source": [
    "### Step 01. Create a Dedicated GEE Environment\n",
    "- It is best practice to create a dedicated environment to avoid package and version conflicts. Open your preferred command line application:\n",
    "  1. Windows:\n",
    "     - CMD (Command prompt)\n",
    "     - Conda prompt (Miniforge Prompt)\n",
    "     - PowerShell\n",
    "     - Terminal, if Linux is installed as WSL\n",
    "  2. Mac and Linux Users:\n",
    "     - Terminal App\n",
    "     - Any terminal emulator\n",
    "- Run the following command:\n",
    "```bash\n",
    "# Create a new environment with Python 3.11 (optimal for GEE)\n",
    "mamba create -n gee-env python=3.11 -y\n",
    "```\n",
    "**Note**: You can choose your desired environment name instead of `gee-env`\n",
    "- Activate the newly created environment:\n",
    "  \n",
    "```bash\n",
    "# Activate the environment\n",
    "mamba activate gee-env\n",
    "```"
   ]
  },
  {
   "cell_type": "markdown",
   "id": "499df174-41e9-4a9d-b7e4-1a112a1635b1",
   "metadata": {},
   "source": [
    "### Step 02: Core Geospatial Stack Installation\n",
    "Install the required packages for your project. Here are the most common ones used in the field, and you can add more later using the same command based on your project needs:\n",
    "```bash\n",
    "# Install core geospatial libraries using mamba (faster than conda)\n",
    "mamba install -c conda-forge \\\n",
    "    earthengine-api \\\n",
    "    geemap \\\n",
    "    geopandas \\\n",
    "    rasterio \\\n",
    "    xarray \\\n",
    "    rioxarray \\\n",
    "    folium \\\n",
    "    jupyterlab \\\n",
    "    ipywidgets \\\n",
    "    nodejs \\\n",
    "    --yes\n",
    "```\n",
    "- You can list the installed packages using the following command:\n",
    "  \n",
    "  ```bash\n",
    "  mamba list\n",
    "  ```"
   ]
  },
  {
   "cell_type": "markdown",
   "id": "182ba0b7-8ce8-4e9c-80dc-b0b26966de66",
   "metadata": {},
   "source": [
    "### Step 03: Earth Engine Authentication\n",
    "Open your terminal/command prompt and run the following command:\n",
    "```bash\n",
    "# Authenticate Earth Engine\n",
    "earthengine authenticate\n",
    "```\n",
    "This will:\n",
    "1. Open a browser window\n",
    "2. Ask you to log in with your Google account\n",
    "3. Generate an authentication token\n",
    "4. Save credentials locally"
   ]
  },
  {
   "cell_type": "markdown",
   "id": "6217d3ab-9af6-4512-bef6-a0099c53215d",
   "metadata": {},
   "source": [
    "### Step 04: Verify authentication\n",
    "\n",
    "From the command line app again, you can use the next command to check that google earth engine has been authenticated successfully.\n",
    "\n",
    "\n",
    "```bash\n",
    "python -c \"import ee; ee.Authenticate(); print('Earth Engine Authenticated successfully!')\"\n",
    "```\n",
    "\n",
    "You can test the project initialization as well, but you need to get the project-id from Google Earth Engine platform:\n",
    "\n",
    "  - Project-ID: 'Your Project ID'\n",
    "  - Run the next command\n",
    "    \n",
    "```bash\n",
    "python -c \"import ee; ee.Initialize(project='project-id'); print('Project Initialized Successful')\"\n",
    "```"
   ]
  },
  {
   "cell_type": "markdown",
   "id": "a8ea0630-afbf-436d-b89a-041cef5ed9b6",
   "metadata": {},
   "source": [
    "<div style=\"background-color: #fff3cd;\n",
    "    border: 1px solid #ffc107;\n",
    "    padding: 15px;\n",
    "    margin: 20px 0;\n",
    "    border-radius: 6px;\n",
    "    color: #856404;\n",
    "    font-family: Arial, sans-serif;\">\n",
    "    <strong> Note:</strong> If you encountered any issues with the setup above, proceed to the next notebook where Google Earth Engine configuration is explained step by step with troubleshooting tips.\n",
    "</div>"
   ]
  },
  {
   "cell_type": "code",
   "execution_count": null,
   "id": "0eac8342-eb83-445b-a0c9-06b853e1846b",
   "metadata": {},
   "outputs": [],
   "source": []
  }
 ],
 "metadata": {
  "kernelspec": {
   "display_name": "Python:3.12",
   "language": "python",
   "name": "python3"
  },
  "language_info": {
   "codemirror_mode": {
    "name": "ipython",
    "version": 3
   },
   "file_extension": ".py",
   "mimetype": "text/x-python",
   "name": "python",
   "nbconvert_exporter": "python",
   "pygments_lexer": "ipython3",
   "version": "3.12.5"
  }
 },
 "nbformat": 4,
 "nbformat_minor": 5
}
