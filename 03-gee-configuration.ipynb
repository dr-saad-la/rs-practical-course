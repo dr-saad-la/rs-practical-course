{
 "cells": [
  {
   "cell_type": "markdown",
   "id": "50bee809-a56f-46d4-9eff-84fa597c1be8",
   "metadata": {},
   "source": [
    "# Configuring Google Earth Engine Python API\n",
    "\n",
    "## Account Setup and Project Configuration\n",
    "\n",
    "### Step 1: Google Earth Engine Account Registration\n",
    "\n",
    "1. **Navigate to**: https://earthengine.google.com/\n",
    "2. **Sign up** with your Google account\n",
    "3. **Register** for Earth Engine access"
   ]
  },
  {
   "cell_type": "markdown",
   "id": "81382518-6929-45cd-800f-a7cc560643cb",
   "metadata": {},
   "source": [
    "## Step 02: Authentication\n",
    "\n",
    "In order to authenticate your account follow the next steps:"
   ]
  },
  {
   "cell_type": "code",
   "execution_count": 5,
   "id": "9c72e8d9-6889-4999-9cea-303dd23a1f75",
   "metadata": {},
   "outputs": [],
   "source": [
    "# Import google earth engine\n",
    "import ee"
   ]
  },
  {
   "cell_type": "code",
   "execution_count": 6,
   "id": "ad548d94-ed06-4a52-a660-5e6e82060e64",
   "metadata": {},
   "outputs": [
    {
     "data": {
      "text/plain": [
       "True"
      ]
     },
     "execution_count": 6,
     "metadata": {},
     "output_type": "execute_result"
    }
   ],
   "source": [
    "# Initialize and authenticate\n",
    "ee.Authenticate()             # Opens browser for authentication"
   ]
  },
  {
   "cell_type": "code",
   "execution_count": 7,
   "id": "cdb0b234-d163-41cc-9a54-4a3b6008dfa2",
   "metadata": {},
   "outputs": [],
   "source": [
    "ee.Initialize(project='learngee-471509')"
   ]
  },
  {
   "cell_type": "code",
   "execution_count": 8,
   "id": "8ad16660-62c9-459d-a0fc-617f12b052dc",
   "metadata": {},
   "outputs": [
    {
     "name": "stdout",
     "output_type": "stream",
     "text": [
      "GEE Authentication successful!\n",
      "GEE version: 1.6.6\n"
     ]
    }
   ],
   "source": [
    "# Test authentication\n",
    "print(\"GEE Authentication successful!\")\n",
    "print(f\"GEE version: {ee.__version__}\")"
   ]
  },
  {
   "cell_type": "code",
   "execution_count": 9,
   "id": "4eb97892-4ea5-4dd0-a740-f6f0b1177b06",
   "metadata": {},
   "outputs": [
    {
     "name": "stdout",
     "output_type": "stream",
     "text": [
      "Image ID: LANDSAT/LC08/C02/T1_TOA/LC08_044034_20140318\n"
     ]
    }
   ],
   "source": [
    "# Simple test\n",
    "image = ee.Image('LANDSAT/LC08/C02/T1_TOA/LC08_044034_20140318')\n",
    "print(f\"Image ID: {image.get('system:id').getInfo()}\")"
   ]
  },
  {
   "cell_type": "code",
   "execution_count": null,
   "id": "6bf12cef-34cd-49b4-8321-48444994cf51",
   "metadata": {},
   "outputs": [],
   "source": []
  }
 ],
 "metadata": {
  "kernelspec": {
   "display_name": "GEE-Env:Py3.11",
   "language": "python",
   "name": "gee-env"
  },
  "language_info": {
   "codemirror_mode": {
    "name": "ipython",
    "version": 3
   },
   "file_extension": ".py",
   "mimetype": "text/x-python",
   "name": "python",
   "nbconvert_exporter": "python",
   "pygments_lexer": "ipython3",
   "version": "3.11.0"
  }
 },
 "nbformat": 4,
 "nbformat_minor": 5
}
