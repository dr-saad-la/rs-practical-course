{
 "cells": [
  {
   "cell_type": "markdown",
   "id": "6d239e7a-ce5a-4d7f-a00a-a839c59bb4a9",
   "metadata": {},
   "source": [
    "<div style=\"font-size:22pt; font-weight:bold; text-align:center;\n",
    "    border: solid gray 2pt; border-radius:5pt; \n",
    "    padding: 6pt;\">\n",
    "    Google Earth Engine Python API Configuration </br>\n",
    "    Step-by-Step Breakdown Guide\n",
    "</div>"
   ]
  },
  {
   "cell_type": "markdown",
   "id": "50bee809-a56f-46d4-9eff-84fa597c1be8",
   "metadata": {},
   "source": [
    "## Account Setup and Project Configuration\n",
    "Before using Google Earth Engine, you need to create a project and register it for your intended use case.\n",
    "\n",
    "### Step 1: Google Earth Engine Account Registration\n",
    "1. **Navigate to**: https://earthengine.google.com/\n",
    "2. **Sign up** with your Google account\n",
    "3. **Create a new project** in Google Cloud Console\n",
    "4. **Register your project** for Earth Engine access:\n",
    "   - **Noncommercial/Student use**: Free access for research and educational purposes\n",
    "   - **Commercial use**: Paid access for business applications\n",
    "\n",
    "<div style=\"background-color: #fff3cd; border: 1px solid #ffc107; padding: 15px; margin: 20px 0; border-radius: 6px; color: #856404; font-family: Arial, sans-serif;\">\n",
    "    <strong>Note:</strong> Choose the registration type that matches your intended use. Noncommercial access is sufficient for learning and research projects.\n",
    "</div>"
   ]
  },
  {
   "cell_type": "markdown",
   "id": "b4006732-115a-4a2d-932c-e69dc3a295b6",
   "metadata": {},
   "source": [
    "## Step 02: Authentication and Initialization\n",
    "Once your environment is set up, you need to authenticate and initialize Google Earth Engine. Follow these steps in your Jupyter notebook:\n",
    "\n",
    "### Import and Authenticate\n",
    "First, import the Earth Engine library and authenticate your account:"
   ]
  },
  {
   "cell_type": "code",
   "execution_count": 1,
   "id": "d31f7244-c328-43fe-8a9d-12ea674aa963",
   "metadata": {},
   "outputs": [],
   "source": [
    "# Import Google Earth Engine\n",
    "import ee"
   ]
  },
  {
   "cell_type": "code",
   "execution_count": 8,
   "id": "07bab106-668e-4122-9196-792dd5229a61",
   "metadata": {},
   "outputs": [
    {
     "data": {
      "text/plain": [
       "True"
      ]
     },
     "execution_count": 8,
     "metadata": {},
     "output_type": "execute_result"
    }
   ],
   "source": [
    "# Authenticate     (run once per environment)\n",
    "ee.Authenticate()  # Opens browser for authentication"
   ]
  },
  {
   "cell_type": "markdown",
   "id": "ddd934f8-7f98-4bc4-ae29-3688e44c5dc8",
   "metadata": {},
   "source": [
    "<div style=\"background-color: #fff3cd; border: 1px solid #ffc107; padding: 15px; margin: 20px 0; border-radius: 6px; color: #856404; font-family: Arial, sans-serif;\">\n",
    "    <strong>Note:</strong> The authentication step will open a browser window. Sign in with the same Google account you used for GEE registration.\n",
    "</div>"
   ]
  },
  {
   "cell_type": "markdown",
   "id": "557f244a-9ed0-4183-9624-24b61129a3e3",
   "metadata": {},
   "source": [
    "### Initialize with Your Project\n",
    "Initialize Earth Engine with your specific project ID:"
   ]
  },
  {
   "cell_type": "code",
   "execution_count": 4,
   "id": "90b0d19b-1cdf-4634-ae64-7112eb312c8a",
   "metadata": {},
   "outputs": [],
   "source": [
    "# Initialize with your project ID\n",
    "ee.Initialize(project='your-project-id')  # Replace with your actual project ID"
   ]
  },
  {
   "cell_type": "markdown",
   "id": "5dd0ebb8-27dc-49c2-bc29-0d3cde59159d",
   "metadata": {},
   "source": [
    "**Important**: Replace `'your-project-id'` with your actual Google Cloud project ID from Step 1."
   ]
  },
  {
   "cell_type": "markdown",
   "id": "a7f6b800-010c-47f5-8b88-40cf91e60945",
   "metadata": {},
   "source": [
    "### Test Your Setup\n",
    "Verify that everything is working correctly:"
   ]
  },
  {
   "cell_type": "code",
   "execution_count": 2,
   "id": "f7e2f021-92b0-4170-bdb6-f7ef8c74401c",
   "metadata": {},
   "outputs": [
    {
     "name": "stdout",
     "output_type": "stream",
     "text": [
      "GEE Authentication successful!\n",
      "GEE version: 1.6.6\n"
     ]
    }
   ],
   "source": [
    "# Test authentication and get system info\n",
    "print(\"GEE Authentication successful!\")\n",
    "print(f\"GEE version: {ee.__version__}\")"
   ]
  },
  {
   "cell_type": "code",
   "execution_count": 7,
   "id": "e43a1929-8c97-4141-b2b8-3fbf3afb72fb",
   "metadata": {},
   "outputs": [
    {
     "name": "stdout",
     "output_type": "stream",
     "text": [
      "Test image info: Image\n",
      "Image ID: LANDSAT/LC08/C02/T1_TOA/LC08_044034_20140318\n"
     ]
    }
   ],
   "source": [
    "# Test with a simple Earth Engine operation\n",
    "image1 = ee.Image('USGS/SRTMGL1_003')\n",
    "image2 = ee.Image('LANDSAT/LC08/C02/T1_TOA/LC08_044034_20140318')\n",
    "\n",
    "print(f\"Test image info: {image1.getInfo()['type']}\")\n",
    "print(f\"Image ID: {image2.get('system:id').getInfo()}\")"
   ]
  },
  {
   "cell_type": "markdown",
   "id": "0fc37e9d-864b-4188-915a-8f18f7286028",
   "metadata": {},
   "source": [
    "If all cells run without errors, your Google Earth Engine setup is complete and ready to use!"
   ]
  },
  {
   "cell_type": "code",
   "execution_count": null,
   "id": "ff483ea2-e22c-4d05-8894-4136838580e1",
   "metadata": {},
   "outputs": [],
   "source": []
  }
 ],
 "metadata": {
  "kernelspec": {
   "display_name": "GEE-Env:Py3.11",
   "language": "python",
   "name": "gee-env"
  },
  "language_info": {
   "codemirror_mode": {
    "name": "ipython",
    "version": 3
   },
   "file_extension": ".py",
   "mimetype": "text/x-python",
   "name": "python",
   "nbconvert_exporter": "python",
   "pygments_lexer": "ipython3",
   "version": "3.11.0"
  }
 },
 "nbformat": 4,
 "nbformat_minor": 5
}
