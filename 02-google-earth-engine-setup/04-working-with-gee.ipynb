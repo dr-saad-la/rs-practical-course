{
 "cells": [
  {
   "cell_type": "code",
   "execution_count": null,
   "id": "f56f4241-99cd-4e8b-9e23-62dfda6ee18e",
   "metadata": {},
   "outputs": [],
   "source": [
    "# =========================================================== #\n",
    "#   Lesson: Working with Google Earth Engine\n",
    "# \n",
    "# =========================================================== #"
   ]
  },
  {
   "cell_type": "code",
   "execution_count": 1,
   "id": "6192d5b4-2260-4b35-995e-c13a0c86ad32",
   "metadata": {},
   "outputs": [],
   "source": [
    "# Import the working tools\n",
    "import ee \n",
    "import geemap\n",
    "import ipywidgets as widgets\n",
    "from IPython.display import display"
   ]
  },
  {
   "cell_type": "code",
   "execution_count": 6,
   "id": "7041a54c-fb7b-4d7c-89c8-fc1e502480d9",
   "metadata": {},
   "outputs": [
    {
     "data": {
      "text/html": [
       "\n",
       "            <style>\n",
       "                .geemap-dark {\n",
       "                    --jp-widgets-color: white;\n",
       "                    --jp-widgets-label-color: white;\n",
       "                    --jp-ui-font-color1: white;\n",
       "                    --jp-layout-color2: #454545;\n",
       "                    background-color: #383838;\n",
       "                }\n",
       "\n",
       "                .geemap-dark .jupyter-button {\n",
       "                    --jp-layout-color3: #383838;\n",
       "                }\n",
       "\n",
       "                .geemap-colab {\n",
       "                    background-color: var(--colab-primary-surface-color, white);\n",
       "                }\n",
       "\n",
       "                .geemap-colab .jupyter-button {\n",
       "                    --jp-layout-color3: var(--colab-primary-surface-color, white);\n",
       "                }\n",
       "            </style>\n",
       "            "
      ],
      "text/plain": [
       "<IPython.core.display.HTML object>"
      ]
     },
     "metadata": {},
     "output_type": "display_data"
    }
   ],
   "source": [
    "# Initialize GEE\n",
    "ee.Initialize(project='learngee-471509')"
   ]
  },
  {
   "cell_type": "code",
   "execution_count": 7,
   "id": "3b512d1e-0ebf-4543-8884-67b9bc143ec0",
   "metadata": {},
   "outputs": [
    {
     "data": {
      "text/html": [
       "\n",
       "            <style>\n",
       "                .geemap-dark {\n",
       "                    --jp-widgets-color: white;\n",
       "                    --jp-widgets-label-color: white;\n",
       "                    --jp-ui-font-color1: white;\n",
       "                    --jp-layout-color2: #454545;\n",
       "                    background-color: #383838;\n",
       "                }\n",
       "\n",
       "                .geemap-dark .jupyter-button {\n",
       "                    --jp-layout-color3: #383838;\n",
       "                }\n",
       "\n",
       "                .geemap-colab {\n",
       "                    background-color: var(--colab-primary-surface-color, white);\n",
       "                }\n",
       "\n",
       "                .geemap-colab .jupyter-button {\n",
       "                    --jp-layout-color3: var(--colab-primary-surface-color, white);\n",
       "                }\n",
       "            </style>\n",
       "            "
      ],
      "text/plain": [
       "<IPython.core.display.HTML object>"
      ]
     },
     "metadata": {},
     "output_type": "display_data"
    }
   ],
   "source": [
    "# Create an interactive map\n",
    "Map = geemap.Map(\n",
    "    center=[25.2048, 55.2708],  # Dubai coordinates\n",
    "    zoom=10,\n",
    "    height='600px'\n",
    ")"
   ]
  },
  {
   "cell_type": "code",
   "execution_count": null,
   "id": "b2c18452-2fe7-49a1-a8bf-a215fc6b74af",
   "metadata": {},
   "outputs": [],
   "source": [
    "# Get a cloud-free Sentinel-2 image\n",
    "sentinel2 = ee.ImageCollection('COPERNICUS/S2_SR_HARMONIZED') \\\n",
    "    .filterBounds(oman) \\\n",
    "    .filterDate('2024-01-01', '2024-03-01') \\\n",
    "    .filter(ee.Filter.lt('CLOUDY_PIXEL_PERCENTAGE', 10)) \\\n",
    "    .select(['B4', 'B3', 'B2', 'B8', 'B11']) \\\n",
    "    .median()\n",
    "\n",
    "# Calculate NDVI\n",
    "ndvi = sentinel2.normalizedDifference(['B8', 'B4']).rename('NDVI')\n",
    "\n",
    "# Print information about the processed images\n",
    "print(\"Successfully processed Sentinel-2 data for Oman\")\n",
    "print(\"Available bands:\", sentinel2.bandNames().getInfo())\n",
    "print(\"Area bounds:\", oman.buffer(50000).bounds().getInfo())\n",
    "\n",
    "# Get NDVI statistics\n",
    "ndvi_stats = ndvi.reduceRegion(\n",
    "    reducer=ee.Reducer.minMax().combine(ee.Reducer.mean(), sharedInputs=True),\n",
    "    geometry=oman.buffer(50000),\n",
    "    scale=10,\n",
    "    maxPixels=1e9\n",
    ")\n",
    "print(\"📈 NDVI Statistics:\", ndvi_stats.getInfo())\n",
    "\n",
    "# Alternative 1: Export to Google Drive\n",
    "def export_to_drive():\n",
    "    # Export true color image\n",
    "    task1 = ee.batch.Export.image.toDrive(\n",
    "        image=sentinel2.select(['B4', 'B3', 'B2']),\n",
    "        description='Oman_TrueColor',\n",
    "        scale=10,\n",
    "        region=oman.buffer(25000),\n",
    "        fileFormat='GeoTIFF'\n",
    "    )\n",
    "    \n",
    "    # Export NDVI\n",
    "    task2 = ee.batch.Export.image.toDrive(\n",
    "        image=ndvi,\n",
    "        description='Oman_NDVI',\n",
    "        scale=10,\n",
    "        region=oman.buffer(25000),\n",
    "        fileFormat='GeoTIFF'\n",
    "    )\n",
    "    \n",
    "    # Start tasks\n",
    "    task1.start()\n",
    "    task2.start()\n",
    "    \n",
    "    print(\"🚀 Export tasks started. Check your Google Drive in a few minutes.\")\n",
    "    print(f\"📝 Task 1 ID: {task1.id}\")\n",
    "    print(f\"📝 Task 2 ID: {task2.id}\")\n",
    "\n",
    "# Alternative 2: Generate static map\n",
    "def generate_static_map():\n",
    "    # Create a static map URL\n",
    "    url = sentinel2.select(['B4', 'B3', 'B2']).getThumbURL({\n",
    "        'min': 0,\n",
    "        'max': 3000,\n",
    "        'dimensions': 1024,\n",
    "        'region': oman.buffer(50000),\n",
    "        'format': 'png'\n",
    "    })\n",
    "    print(\"🖼️ Static map URL (copy to browser):\")\n",
    "    print(url)\n",
    "\n",
    "# Run alternatives\n",
    "print(\"\\n\" + \"=\"*50)\n",
    "print(\"Choose an option:\")\n",
    "print(\"1. Export to Google Drive: export_to_drive()\")\n",
    "print(\"2. Generate static map URL: generate_static_map()\")\n",
    "print(\"=\"*50)"
   ]
  },
  {
   "cell_type": "code",
   "execution_count": null,
   "id": "dee30082-e5fd-47eb-9c91-2c21f039cd56",
   "metadata": {},
   "outputs": [
    {
     "data": {
      "text/html": [
       "\n",
       "            <style>\n",
       "                .geemap-dark {\n",
       "                    --jp-widgets-color: white;\n",
       "                    --jp-widgets-label-color: white;\n",
       "                    --jp-ui-font-color1: white;\n",
       "                    --jp-layout-color2: #454545;\n",
       "                    background-color: #383838;\n",
       "                }\n",
       "\n",
       "                .geemap-dark .jupyter-button {\n",
       "                    --jp-layout-color3: #383838;\n",
       "                }\n",
       "\n",
       "                .geemap-colab {\n",
       "                    background-color: var(--colab-primary-surface-color, white);\n",
       "                }\n",
       "\n",
       "                .geemap-colab .jupyter-button {\n",
       "                    --jp-layout-color3: var(--colab-primary-surface-color, white);\n",
       "                }\n",
       "            </style>\n",
       "            "
      ],
      "text/plain": [
       "<IPython.core.display.HTML object>"
      ]
     },
     "metadata": {},
     "output_type": "display_data"
    },
    {
     "name": "stdout",
     "output_type": "stream",
     "text": [
      "✅ Successfully processed Sentinel-2 data for Oman\n",
      "📊 Available bands: ['B4', 'B3', 'B2', 'B8', 'B11']\n",
      "🗺️ Area bounds: {'geodesic': False, 'type': 'Polygon', 'coordinates': [[[58.10525317719209, 23.136129024928714], [59.08067221127958, 23.136129024928714], [59.08067221127958, 24.0358432975741], [58.10525317719209, 24.0358432975741], [58.10525317719209, 23.136129024928714]]]}\n",
      "📈 NDVI Statistics: {'NDVI_max': 1, 'NDVI_mean': -0.09665263658279283, 'NDVI_min': -1}\n",
      "\n",
      "==================================================\n",
      "Choose an option:\n",
      "1. Export to Google Drive: export_to_drive()\n",
      "2. Generate static map URL: generate_static_map()\n",
      "==================================================\n",
      "🖼️ Static map URL (copy to browser):\n",
      "https://earthengine.googleapis.com/v1/projects/learngee-471509/thumbnails/f50e73785c4c7daabc6b7b650707f6fb-9ea3d1fed9d3ac517f8f3812cd21bdba:getPixels\n"
     ]
    }
   ],
   "source": [
    "# Uncomment to use:\n",
    "# export_to_drive()\n",
    "generate_static_map()"
   ]
  },
  {
   "cell_type": "code",
   "execution_count": null,
   "id": "98d5e52b-7b99-4ef6-a0c9-4b5dfb2b292b",
   "metadata": {},
   "outputs": [],
   "source": []
  }
 ],
 "metadata": {
  "kernelspec": {
   "display_name": "GEE-Env:Py3.11",
   "language": "python",
   "name": "gee-env"
  },
  "language_info": {
   "codemirror_mode": {
    "name": "ipython",
    "version": 3
   },
   "file_extension": ".py",
   "mimetype": "text/x-python",
   "name": "python",
   "nbconvert_exporter": "python",
   "pygments_lexer": "ipython3",
   "version": "3.11.0"
  }
 },
 "nbformat": 4,
 "nbformat_minor": 5
}
