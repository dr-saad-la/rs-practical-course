{
 "cells": [
  {
   "cell_type": "markdown",
   "id": "22795a92-6439-4e31-88ae-0b14dc0ac061",
   "metadata": {},
   "source": [
    "<div style=\"font-size: 22pt; font-weight: bold; text-align: center;\n",
    "    border: 3px solid #666; border-radius: 6px; \n",
    "    padding: 10px; margin: 20px 0;\n",
    "    background-color: #fafafa;\">\n",
    "    Google Earth Engine<br>\n",
    "    <span style=\"font-size: 16pt; color: #666;\">Getting Started Guide</span>\n",
    "</div>"
   ]
  },
  {
   "cell_type": "markdown",
   "id": "86a478f7-6ecc-4042-9c62-99c73884fcdd",
   "metadata": {},
   "source": [
    "<div style=\"background-color: #f8f9fa; border: 1px solid #dee2e6; border-radius: 6px; \n",
    "    padding: 15px; margin: 10px 0; font-size: 12pt; color: #495057; \n",
    "    font-family: Arial, sans-serif;\">\n",
    "    <div style=\"text-align: center; margin-bottom: 10px;\">\n",
    "        <strong>Author:</strong> Dr. Saad Laouadi<br>\n",
    "        <em>Educational Content for Geospatial Analysis</em>\n",
    "    </div>\n",
    "    <hr style=\"border: none; border-top: 1px solid #dee2e6; margin: 10px 0;\">\n",
    "    <div style=\"font-size: 11pt; line-height: 1.4;\">\n",
    "        <strong>Usage Terms:</strong><br>\n",
    "        • This content is provided for educational and research purposes<br>\n",
    "        • Please provide attribution when using or sharing this material<br>\n",
    "        • Commercial use requires prior permission - contact the author<br>\n",
    "        • Feel free to adapt for non-commercial educational use\n",
    "    </div>\n",
    "</div>"
   ]
  },
  {
   "cell_type": "code",
   "execution_count": 1,
   "id": "6192d5b4-2260-4b35-995e-c13a0c86ad32",
   "metadata": {},
   "outputs": [
    {
     "name": "stdout",
     "output_type": "stream",
     "text": [
      "All libraries imported successfully!\n",
      "   • Earth Engine: 1.6.6\n",
      "   • Geemap: 0.36.2\n",
      "   • IPython Widgets: 8.1.7\n"
     ]
    }
   ],
   "source": [
    "#************************************************************\n",
    "#*           GOOGLE EARTH ENGINE - FIRST STEPS              *\n",
    "#*                  Essential Libraries                     *\n",
    "#************************************************************\n",
    "\n",
    "# Import the working tools\n",
    "import ee \n",
    "import geemap\n",
    "import ipywidgets as widgets\n",
    "from IPython.display import display\n",
    "\n",
    "print(\"All libraries imported successfully!\")\n",
    "\n",
    "print(f\"   • Earth Engine: {ee.__version__}\")\n",
    "print(f\"   • Geemap: {geemap.__version__}\")\n",
    "print(f\"   • IPython Widgets: {widgets.__version__}\")"
   ]
  },
  {
   "cell_type": "code",
   "execution_count": 2,
   "id": "81353db6-3167-4e6f-b4fd-c8cb584f6f2d",
   "metadata": {},
   "outputs": [
    {
     "data": {
      "text/html": [
       "\n",
       "            <style>\n",
       "                .geemap-dark {\n",
       "                    --jp-widgets-color: white;\n",
       "                    --jp-widgets-label-color: white;\n",
       "                    --jp-ui-font-color1: white;\n",
       "                    --jp-layout-color2: #454545;\n",
       "                    background-color: #383838;\n",
       "                }\n",
       "\n",
       "                .geemap-dark .jupyter-button {\n",
       "                    --jp-layout-color3: #383838;\n",
       "                }\n",
       "\n",
       "                .geemap-colab {\n",
       "                    background-color: var(--colab-primary-surface-color, white);\n",
       "                }\n",
       "\n",
       "                .geemap-colab .jupyter-button {\n",
       "                    --jp-layout-color3: var(--colab-primary-surface-color, white);\n",
       "                }\n",
       "            </style>\n",
       "            "
      ],
      "text/plain": [
       "<IPython.core.display.HTML object>"
      ]
     },
     "metadata": {},
     "output_type": "display_data"
    },
    {
     "name": "stdout",
     "output_type": "stream",
     "text": [
      "Google Earth Engine initialized successfully!\n"
     ]
    }
   ],
   "source": [
    "# Initialize Google Earth Engine\n",
    "try:\n",
    "    # Replace 'your-project-id' with your actual project ID\n",
    "    ee.Initialize(project='your-project-id')\n",
    "    print(\"Google Earth Engine initialized successfully!\")\n",
    "\n",
    "except Exception as e:\n",
    "    print(\"Authentication required!\")\n",
    "    print(\"Please run the following command first:\")\n",
    "    print(\"ee.Authenticate()\")\n",
    "    print(f\"\\n Error details: {str(e)}\")\n",
    "    raise"
   ]
  },
  {
   "cell_type": "code",
   "execution_count": 3,
   "id": "97160466-f523-4ded-bc1d-957ba51fe358",
   "metadata": {},
   "outputs": [
    {
     "data": {
      "text/html": [
       "\n",
       "            <style>\n",
       "                .geemap-dark {\n",
       "                    --jp-widgets-color: white;\n",
       "                    --jp-widgets-label-color: white;\n",
       "                    --jp-ui-font-color1: white;\n",
       "                    --jp-layout-color2: #454545;\n",
       "                    background-color: #383838;\n",
       "                }\n",
       "\n",
       "                .geemap-dark .jupyter-button {\n",
       "                    --jp-layout-color3: #383838;\n",
       "                }\n",
       "\n",
       "                .geemap-colab {\n",
       "                    background-color: var(--colab-primary-surface-color, white);\n",
       "                }\n",
       "\n",
       "                .geemap-colab .jupyter-button {\n",
       "                    --jp-layout-color3: var(--colab-primary-surface-color, white);\n",
       "                }\n",
       "            </style>\n",
       "            "
      ],
      "text/plain": [
       "<IPython.core.display.HTML object>"
      ]
     },
     "metadata": {},
     "output_type": "display_data"
    },
    {
     "name": "stdout",
     "output_type": "stream",
     "text": [
      "<class 'geemap.geemap.Map'>\n",
      "Geemap interactive map created successfully!\n"
     ]
    }
   ],
   "source": [
    "# Create an interactive map centered on Japan\n",
    "# Try geemap (if leaflet extension works)\n",
    "\n",
    "Map = geemap.Map(\n",
    "    center=[35.6762, 139.6503],  # Tokyo, Japan coordinates\n",
    "    zoom=6,                      # Zoom level to show more of Japan\n",
    "    height='600px'\n",
    ")\n",
    "\n",
    "print(type(Map))\n",
    "print(\"Geemap interactive map created successfully!\")\n",
    "# display(Map)           # This did not work for me due to some issue with leaflet package\n",
    "                         # you may need to uncommend if you are using classic jupyter notebook\n",
    "                         # It will work just fine."
   ]
  },
  {
   "cell_type": "code",
   "execution_count": 4,
   "id": "35c80624-b41d-4d5a-985a-056d37763736",
   "metadata": {},
   "outputs": [
    {
     "data": {
      "text/html": [
       "\n",
       "            <style>\n",
       "                .geemap-dark {\n",
       "                    --jp-widgets-color: white;\n",
       "                    --jp-widgets-label-color: white;\n",
       "                    --jp-ui-font-color1: white;\n",
       "                    --jp-layout-color2: #454545;\n",
       "                    background-color: #383838;\n",
       "                }\n",
       "\n",
       "                .geemap-dark .jupyter-button {\n",
       "                    --jp-layout-color3: #383838;\n",
       "                }\n",
       "\n",
       "                .geemap-colab {\n",
       "                    background-color: var(--colab-primary-surface-color, white);\n",
       "                }\n",
       "\n",
       "                .geemap-colab .jupyter-button {\n",
       "                    --jp-layout-color3: var(--colab-primary-surface-color, white);\n",
       "                }\n",
       "            </style>\n",
       "            "
      ],
      "text/plain": [
       "<IPython.core.display.HTML object>"
      ]
     },
     "metadata": {},
     "output_type": "display_data"
    },
    {
     "name": "stdout",
     "output_type": "stream",
     "text": [
      "🗺️ Folium map created as alternative\n",
      "📍 Centered on Algiers, Algeria\n"
     ]
    },
    {
     "data": {
      "text/html": [
       "<div style=\"width:100%;\"><div style=\"position:relative;width:100%;height:0;padding-bottom:60%;\"><span style=\"color:#565656\">Make this Notebook Trusted to load map: File -> Trust Notebook</span><iframe srcdoc=\"&lt;!DOCTYPE html&gt;\n",
       "&lt;html&gt;\n",
       "&lt;head&gt;\n",
       "    \n",
       "    &lt;meta http-equiv=&quot;content-type&quot; content=&quot;text/html; charset=UTF-8&quot; /&gt;\n",
       "    &lt;script src=&quot;https://cdn.jsdelivr.net/npm/leaflet@1.9.3/dist/leaflet.js&quot;&gt;&lt;/script&gt;\n",
       "    &lt;script src=&quot;https://code.jquery.com/jquery-3.7.1.min.js&quot;&gt;&lt;/script&gt;\n",
       "    &lt;script src=&quot;https://cdn.jsdelivr.net/npm/bootstrap@5.2.2/dist/js/bootstrap.bundle.min.js&quot;&gt;&lt;/script&gt;\n",
       "    &lt;script src=&quot;https://cdnjs.cloudflare.com/ajax/libs/Leaflet.awesome-markers/2.0.2/leaflet.awesome-markers.js&quot;&gt;&lt;/script&gt;\n",
       "    &lt;link rel=&quot;stylesheet&quot; href=&quot;https://cdn.jsdelivr.net/npm/leaflet@1.9.3/dist/leaflet.css&quot;/&gt;\n",
       "    &lt;link rel=&quot;stylesheet&quot; href=&quot;https://cdn.jsdelivr.net/npm/bootstrap@5.2.2/dist/css/bootstrap.min.css&quot;/&gt;\n",
       "    &lt;link rel=&quot;stylesheet&quot; href=&quot;https://netdna.bootstrapcdn.com/bootstrap/3.0.0/css/bootstrap-glyphicons.css&quot;/&gt;\n",
       "    &lt;link rel=&quot;stylesheet&quot; href=&quot;https://cdn.jsdelivr.net/npm/@fortawesome/fontawesome-free@6.2.0/css/all.min.css&quot;/&gt;\n",
       "    &lt;link rel=&quot;stylesheet&quot; href=&quot;https://cdnjs.cloudflare.com/ajax/libs/Leaflet.awesome-markers/2.0.2/leaflet.awesome-markers.css&quot;/&gt;\n",
       "    &lt;link rel=&quot;stylesheet&quot; href=&quot;https://cdn.jsdelivr.net/gh/python-visualization/folium/folium/templates/leaflet.awesome.rotate.min.css&quot;/&gt;\n",
       "    \n",
       "            &lt;meta name=&quot;viewport&quot; content=&quot;width=device-width,\n",
       "                initial-scale=1.0, maximum-scale=1.0, user-scalable=no&quot; /&gt;\n",
       "            &lt;style&gt;\n",
       "                #map_7a902252f4a57887a7420be8b9745b25 {\n",
       "                    position: relative;\n",
       "                    width: 100.0%;\n",
       "                    height: 60.0%;\n",
       "                    left: 0.0%;\n",
       "                    top: 0.0%;\n",
       "                }\n",
       "                .leaflet-container { font-size: 1rem; }\n",
       "            &lt;/style&gt;\n",
       "\n",
       "            &lt;style&gt;html, body {\n",
       "                width: 100%;\n",
       "                height: 100%;\n",
       "                margin: 0;\n",
       "                padding: 0;\n",
       "            }\n",
       "            &lt;/style&gt;\n",
       "\n",
       "            &lt;style&gt;#map {\n",
       "                position:absolute;\n",
       "                top:0;\n",
       "                bottom:0;\n",
       "                right:0;\n",
       "                left:0;\n",
       "                }\n",
       "            &lt;/style&gt;\n",
       "\n",
       "            &lt;script&gt;\n",
       "                L_NO_TOUCH = false;\n",
       "                L_DISABLE_3D = false;\n",
       "            &lt;/script&gt;\n",
       "\n",
       "        \n",
       "&lt;/head&gt;\n",
       "&lt;body&gt;\n",
       "    \n",
       "    \n",
       "            &lt;div class=&quot;folium-map&quot; id=&quot;map_7a902252f4a57887a7420be8b9745b25&quot; &gt;&lt;/div&gt;\n",
       "        \n",
       "&lt;/body&gt;\n",
       "&lt;script&gt;\n",
       "    \n",
       "    \n",
       "            var map_7a902252f4a57887a7420be8b9745b25 = L.map(\n",
       "                &quot;map_7a902252f4a57887a7420be8b9745b25&quot;,\n",
       "                {\n",
       "                    center: [36.7538, 3.0588],\n",
       "                    crs: L.CRS.EPSG3857,\n",
       "                    ...{\n",
       "  &quot;zoom&quot;: 8,\n",
       "  &quot;zoomControl&quot;: true,\n",
       "  &quot;preferCanvas&quot;: false,\n",
       "}\n",
       "\n",
       "                }\n",
       "            );\n",
       "\n",
       "            \n",
       "\n",
       "        \n",
       "    \n",
       "            var tile_layer_f442eead63e74273db4eb8fee28325bc = L.tileLayer(\n",
       "                &quot;https://tile.openstreetmap.org/{z}/{x}/{y}.png&quot;,\n",
       "                {\n",
       "  &quot;minZoom&quot;: 0,\n",
       "  &quot;maxZoom&quot;: 19,\n",
       "  &quot;maxNativeZoom&quot;: 19,\n",
       "  &quot;noWrap&quot;: false,\n",
       "  &quot;attribution&quot;: &quot;\\u0026copy; \\u003ca href=\\&quot;https://www.openstreetmap.org/copyright\\&quot;\\u003eOpenStreetMap\\u003c/a\\u003e contributors&quot;,\n",
       "  &quot;subdomains&quot;: &quot;abc&quot;,\n",
       "  &quot;detectRetina&quot;: false,\n",
       "  &quot;tms&quot;: false,\n",
       "  &quot;opacity&quot;: 1,\n",
       "}\n",
       "\n",
       "            );\n",
       "        \n",
       "    \n",
       "            tile_layer_f442eead63e74273db4eb8fee28325bc.addTo(map_7a902252f4a57887a7420be8b9745b25);\n",
       "        \n",
       "&lt;/script&gt;\n",
       "&lt;/html&gt;\" style=\"position:absolute;width:100%;height:100%;left:0;top:0;border:none !important;\" allowfullscreen webkitallowfullscreen mozallowfullscreen></iframe></div></div>"
      ],
      "text/plain": [
       "<folium.folium.Map at 0x16800edd0>"
      ]
     },
     "execution_count": 4,
     "metadata": {},
     "output_type": "execute_result"
    }
   ],
   "source": [
    "# Using folium to display map\n",
    "# Since I am using Jupyterlab, I had to fall back to folium package\n",
    "import folium\n",
    "\n",
    "# Create folium map as backup\n",
    "folium_map = folium.Map(\n",
    "    location=[36.7538, 3.0588],  # Algiers, Algeria\n",
    "    zoom_start=8,\n",
    "    width='100%',\n",
    "    height='60%'\n",
    ")\n",
    "print(\"🗺️ Folium map created as alternative\")\n",
    "print(\"📍 Centered on Algiers, Algeria\")\n",
    "\n",
    "# Display folium map (works without extensions)\n",
    "folium_map"
   ]
  },
  {
   "cell_type": "markdown",
   "id": "cadf455f-8f50-4f69-8e60-9ca35fe3c7ee",
   "metadata": {},
   "source": [
    "---"
   ]
  },
  {
   "cell_type": "code",
   "execution_count": 5,
   "id": "e93efa65-324f-4ca0-8fb0-0cb1aac06614",
   "metadata": {},
   "outputs": [
    {
     "data": {
      "text/html": [
       "\n",
       "            <style>\n",
       "                .geemap-dark {\n",
       "                    --jp-widgets-color: white;\n",
       "                    --jp-widgets-label-color: white;\n",
       "                    --jp-ui-font-color1: white;\n",
       "                    --jp-layout-color2: #454545;\n",
       "                    background-color: #383838;\n",
       "                }\n",
       "\n",
       "                .geemap-dark .jupyter-button {\n",
       "                    --jp-layout-color3: #383838;\n",
       "                }\n",
       "\n",
       "                .geemap-colab {\n",
       "                    background-color: var(--colab-primary-surface-color, white);\n",
       "                }\n",
       "\n",
       "                .geemap-colab .jupyter-button {\n",
       "                    --jp-layout-color3: var(--colab-primary-surface-color, white);\n",
       "                }\n",
       "            </style>\n",
       "            "
      ],
      "text/plain": [
       "<IPython.core.display.HTML object>"
      ]
     },
     "metadata": {},
     "output_type": "display_data"
    }
   ],
   "source": [
    "# Load a Sentinel-2 image\n",
    "# We'll use Algeria (Algiers) as our area of interest\n",
    "algeria = ee.Geometry.Point([3.0588, 36.7538])      # Algiers, Algeria coordinates"
   ]
  },
  {
   "cell_type": "code",
   "execution_count": 6,
   "id": "64ce6530-50b1-4a15-9823-8f335572acfc",
   "metadata": {},
   "outputs": [
    {
     "data": {
      "text/html": [
       "\n",
       "            <style>\n",
       "                .geemap-dark {\n",
       "                    --jp-widgets-color: white;\n",
       "                    --jp-widgets-label-color: white;\n",
       "                    --jp-ui-font-color1: white;\n",
       "                    --jp-layout-color2: #454545;\n",
       "                    background-color: #383838;\n",
       "                }\n",
       "\n",
       "                .geemap-dark .jupyter-button {\n",
       "                    --jp-layout-color3: #383838;\n",
       "                }\n",
       "\n",
       "                .geemap-colab {\n",
       "                    background-color: var(--colab-primary-surface-color, white);\n",
       "                }\n",
       "\n",
       "                .geemap-colab .jupyter-button {\n",
       "                    --jp-layout-color3: var(--colab-primary-surface-color, white);\n",
       "                }\n",
       "            </style>\n",
       "            "
      ],
      "text/plain": [
       "<IPython.core.display.HTML object>"
      ]
     },
     "metadata": {},
     "output_type": "display_data"
    },
    {
     "name": "stdout",
     "output_type": "stream",
     "text": [
      "Successfully processed Sentinel-2 data for Algeria\n",
      "Available bands: ['B4', 'B3', 'B2', 'B8', 'B11']\n",
      "Area bounds: {'geodesic': False, 'type': 'Polygon', 'coordinates': [[[2.5022159484946354, 36.30402860761232], [3.6178948848610375, 36.30402860761232], [3.6178948848610375, 37.2037432975741], [2.5022159484946354, 37.2037432975741], [2.5022159484946354, 36.30402860761232]]]}\n"
     ]
    }
   ],
   "source": [
    "# Get a cloud-free Sentinel-2 image\n",
    "sentinel2 = ee.ImageCollection('COPERNICUS/S2_SR_HARMONIZED') \\\n",
    "    .filterBounds(algeria) \\\n",
    "    .filterDate('2024-01-01', '2024-03-01') \\\n",
    "    .filter(ee.Filter.lt('CLOUDY_PIXEL_PERCENTAGE', 10)) \\\n",
    "    .select(['B4', 'B3', 'B2', 'B8', 'B11']) \\\n",
    "    .median()\n",
    "\n",
    "# Calculate NDVI\n",
    "ndvi = sentinel2.normalizedDifference(['B8', 'B4']).rename('NDVI')\n",
    "\n",
    "# Print information about the processed images\n",
    "print(\"Successfully processed Sentinel-2 data for Algeria\")\n",
    "print(\"Available bands:\", sentinel2.bandNames().getInfo())\n",
    "print(\"Area bounds:\", algeria.buffer(50000).bounds().getInfo())"
   ]
  },
  {
   "cell_type": "code",
   "execution_count": 7,
   "id": "9510300c-790c-4490-8df6-843de7eaecc4",
   "metadata": {},
   "outputs": [
    {
     "data": {
      "text/html": [
       "\n",
       "            <style>\n",
       "                .geemap-dark {\n",
       "                    --jp-widgets-color: white;\n",
       "                    --jp-widgets-label-color: white;\n",
       "                    --jp-ui-font-color1: white;\n",
       "                    --jp-layout-color2: #454545;\n",
       "                    background-color: #383838;\n",
       "                }\n",
       "\n",
       "                .geemap-dark .jupyter-button {\n",
       "                    --jp-layout-color3: #383838;\n",
       "                }\n",
       "\n",
       "                .geemap-colab {\n",
       "                    background-color: var(--colab-primary-surface-color, white);\n",
       "                }\n",
       "\n",
       "                .geemap-colab .jupyter-button {\n",
       "                    --jp-layout-color3: var(--colab-primary-surface-color, white);\n",
       "                }\n",
       "            </style>\n",
       "            "
      ],
      "text/plain": [
       "<IPython.core.display.HTML object>"
      ]
     },
     "metadata": {},
     "output_type": "display_data"
    },
    {
     "name": "stdout",
     "output_type": "stream",
     "text": [
      "NDVI Statistics: {'NDVI_max': 1, 'NDVI_mean': 0.2549056428877465, 'NDVI_min': -1}\n"
     ]
    }
   ],
   "source": [
    "# Get NDVI statistics\n",
    "ndvi_stats = ndvi.reduceRegion(\n",
    "    reducer=ee.Reducer.minMax().combine(ee.Reducer.mean(), sharedInputs=True),\n",
    "    geometry=algeria.buffer(50000),\n",
    "    scale=10,\n",
    "    maxPixels=1e9\n",
    ")\n",
    "print(\"NDVI Statistics:\", ndvi_stats.getInfo())"
   ]
  },
  {
   "cell_type": "code",
   "execution_count": 8,
   "id": "50913287-498d-4527-8b65-8cd6287c11c1",
   "metadata": {},
   "outputs": [
    {
     "data": {
      "text/html": [
       "\n",
       "            <style>\n",
       "                .geemap-dark {\n",
       "                    --jp-widgets-color: white;\n",
       "                    --jp-widgets-label-color: white;\n",
       "                    --jp-ui-font-color1: white;\n",
       "                    --jp-layout-color2: #454545;\n",
       "                    background-color: #383838;\n",
       "                }\n",
       "\n",
       "                .geemap-dark .jupyter-button {\n",
       "                    --jp-layout-color3: #383838;\n",
       "                }\n",
       "\n",
       "                .geemap-colab {\n",
       "                    background-color: var(--colab-primary-surface-color, white);\n",
       "                }\n",
       "\n",
       "                .geemap-colab .jupyter-button {\n",
       "                    --jp-layout-color3: var(--colab-primary-surface-color, white);\n",
       "                }\n",
       "            </style>\n",
       "            "
      ],
      "text/plain": [
       "<IPython.core.display.HTML object>"
      ]
     },
     "metadata": {},
     "output_type": "display_data"
    }
   ],
   "source": [
    "# Export to Google Drive\n",
    "# *********************\n",
    "def export_to_drive():\n",
    "    # Export true color image\n",
    "    task1 = ee.batch.Export.image.toDrive(\n",
    "        image=sentinel2.select(['B4', 'B3', 'B2']),\n",
    "        description='Oman_TrueColor',\n",
    "        scale=10,\n",
    "        region=oman.buffer(25000),\n",
    "        fileFormat='GeoTIFF'\n",
    "    )\n",
    "    \n",
    "    # Export NDVI\n",
    "    task2 = ee.batch.Export.image.toDrive(\n",
    "        image=ndvi,\n",
    "        description='Oman_NDVI',\n",
    "        scale=10,\n",
    "        region=oman.buffer(25000),\n",
    "        fileFormat='GeoTIFF'\n",
    "    )\n",
    "    \n",
    "    # Start tasks\n",
    "    task1.start()\n",
    "    task2.start()\n",
    "    \n",
    "    print(\"Export tasks started. Check your Google Drive in a few minutes.\")\n",
    "    print(f\" Task 1 ID: {task1.id}\")\n",
    "    print(f\" Task 2 ID: {task2.id}\")"
   ]
  },
  {
   "cell_type": "code",
   "execution_count": 11,
   "id": "cda52dfc-8e1c-49a7-8549-83db4f55f792",
   "metadata": {},
   "outputs": [
    {
     "data": {
      "text/html": [
       "\n",
       "            <style>\n",
       "                .geemap-dark {\n",
       "                    --jp-widgets-color: white;\n",
       "                    --jp-widgets-label-color: white;\n",
       "                    --jp-ui-font-color1: white;\n",
       "                    --jp-layout-color2: #454545;\n",
       "                    background-color: #383838;\n",
       "                }\n",
       "\n",
       "                .geemap-dark .jupyter-button {\n",
       "                    --jp-layout-color3: #383838;\n",
       "                }\n",
       "\n",
       "                .geemap-colab {\n",
       "                    background-color: var(--colab-primary-surface-color, white);\n",
       "                }\n",
       "\n",
       "                .geemap-colab .jupyter-button {\n",
       "                    --jp-layout-color3: var(--colab-primary-surface-color, white);\n",
       "                }\n",
       "            </style>\n",
       "            "
      ],
      "text/plain": [
       "<IPython.core.display.HTML object>"
      ]
     },
     "metadata": {},
     "output_type": "display_data"
    },
    {
     "name": "stdout",
     "output_type": "stream",
     "text": [
      "\n",
      "==================================================\n",
      "Choose an option:\n",
      "1. Export to Google Drive: export_to_drive()\n",
      "2. Generate static map URL: generate_static_map()\n",
      "==================================================\n"
     ]
    }
   ],
   "source": [
    "# Generate static map\n",
    "# *******************\n",
    "def generate_static_map():\n",
    "    # Create a static map URL\n",
    "    url = sentinel2.select(['B4', 'B3', 'B2']).getThumbURL({\n",
    "        'min': 0,\n",
    "        'max': 3000,\n",
    "        'dimensions': 1024,\n",
    "        'region': algeria.buffer(50000),\n",
    "        'format': 'png'\n",
    "    })\n",
    "    print(\"Static map URL (copy to browser):\")\n",
    "    print(url)\n",
    "\n",
    "# Run alternatives\n",
    "print(\"\\n\" + \"=\"*50)\n",
    "print(\"Choose an option:\")\n",
    "print(\"1. Export to Google Drive: export_to_drive()\")\n",
    "print(\"2. Generate static map URL: generate_static_map()\")\n",
    "print(\"=\"*50)"
   ]
  },
  {
   "cell_type": "code",
   "execution_count": 12,
   "id": "dee30082-e5fd-47eb-9c91-2c21f039cd56",
   "metadata": {},
   "outputs": [
    {
     "data": {
      "text/html": [
       "\n",
       "            <style>\n",
       "                .geemap-dark {\n",
       "                    --jp-widgets-color: white;\n",
       "                    --jp-widgets-label-color: white;\n",
       "                    --jp-ui-font-color1: white;\n",
       "                    --jp-layout-color2: #454545;\n",
       "                    background-color: #383838;\n",
       "                }\n",
       "\n",
       "                .geemap-dark .jupyter-button {\n",
       "                    --jp-layout-color3: #383838;\n",
       "                }\n",
       "\n",
       "                .geemap-colab {\n",
       "                    background-color: var(--colab-primary-surface-color, white);\n",
       "                }\n",
       "\n",
       "                .geemap-colab .jupyter-button {\n",
       "                    --jp-layout-color3: var(--colab-primary-surface-color, white);\n",
       "                }\n",
       "            </style>\n",
       "            "
      ],
      "text/plain": [
       "<IPython.core.display.HTML object>"
      ]
     },
     "metadata": {},
     "output_type": "display_data"
    },
    {
     "name": "stdout",
     "output_type": "stream",
     "text": [
      "Static map URL (copy to browser):\n",
      "https://earthengine.googleapis.com/v1/projects/learngee-471509/thumbnails/879a59ead7151e30f8b47c2a4d11589c-a25e2a7daee4e91beb0ac9ae44db66f3:getPixels\n"
     ]
    }
   ],
   "source": [
    "# Uncomment to use:\n",
    "# export_to_drive()\n",
    "generate_static_map()"
   ]
  },
  {
   "cell_type": "code",
   "execution_count": null,
   "id": "98d5e52b-7b99-4ef6-a0c9-4b5dfb2b292b",
   "metadata": {},
   "outputs": [],
   "source": []
  }
 ],
 "metadata": {
  "kernelspec": {
   "display_name": "GEE-Env:Py3.11",
   "language": "python",
   "name": "gee-env"
  },
  "language_info": {
   "codemirror_mode": {
    "name": "ipython",
    "version": 3
   },
   "file_extension": ".py",
   "mimetype": "text/x-python",
   "name": "python",
   "nbconvert_exporter": "python",
   "pygments_lexer": "ipython3",
   "version": "3.11.0"
  }
 },
 "nbformat": 4,
 "nbformat_minor": 5
}
