{
 "cells": [
  {
   "cell_type": "code",
   "execution_count": 1,
   "id": "0b32559c-0c1f-45f1-8ed8-054a953b1cd7",
   "metadata": {},
   "outputs": [],
   "source": [
    "# *******************************************************\n",
    "#  Lesson:  DataFrame & GeoDataFrame - Advanced Data Structures Guide\n",
    "#  Author: Dr. Saad Laouadi\n",
    "# *******************************************************"
   ]
  },
  {
   "cell_type": "code",
   "execution_count": 2,
   "id": "7815df49-9835-48b4-8259-f080044b367f",
   "metadata": {},
   "outputs": [
    {
     "name": "stdout",
     "output_type": "stream",
     "text": [
      "Environment Setup Successful!!!\n"
     ]
    }
   ],
   "source": [
    "# Import the necessary tools\n",
    "import pandas as pd\n",
    "import numpy as np\n",
    "\n",
    "# For GeoDataFrame section (install: pip install geopandas)\n",
    "try:\n",
    "    import geopandas as gpd\n",
    "    from shapely.geometry import Point, Polygon\n",
    "    GEOPANDAS_AVAILABLE = True\n",
    "except ImportError:\n",
    "    print(\"⚠️ GeoPandas not installed. Install with: pip install geopandas\")\n",
    "    GEOPANDAS_AVAILABLE = False\n",
    "\n",
    "print(\"Environment Setup Successful!!!\")"
   ]
  },
  {
   "cell_type": "code",
   "execution_count": 3,
   "id": "f6806250-cfc7-44b8-9425-7ddd6ad42636",
   "metadata": {},
   "outputs": [
    {
     "name": "stdout",
     "output_type": "stream",
     "text": [
      " PANDAS DATAFRAME BASICS\n",
      "========================================\n",
      "Original DataFrame:\n",
      "     name  age    city  salary department\n",
      "0   Ahmed   25   Dubai    5000         IT\n",
      "1  Fatima   30  Muscat    6500    Finance\n",
      "2    Omar   35  Riyadh    7000         IT\n",
      "3    Sara   28  Kuwait    5500         HR\n",
      "4     Ali   32    Doha    6000    Finance\n",
      "Shape: (5, 5)\n"
     ]
    }
   ],
   "source": [
    "# =====================================\n",
    "# 1. PANDAS DATAFRAME BASICS\n",
    "# =====================================\n",
    "\n",
    "print(\" PANDAS DATAFRAME BASICS\")\n",
    "print(\"=\"*40)\n",
    "\n",
    "# Create DataFrame from dictionary\n",
    "data = {\n",
    "    'name': ['Ahmed', 'Fatima', 'Omar', 'Sara', 'Ali'],\n",
    "    'age': [25, 30, 35, 28, 32],\n",
    "    'city': ['Dubai', 'Muscat', 'Riyadh', 'Kuwait', 'Doha'],\n",
    "    'salary': [5000, 6500, 7000, 5500, 6000],\n",
    "    'department': ['IT', 'Finance', 'IT', 'HR', 'Finance']\n",
    "}\n",
    "\n",
    "df = pd.DataFrame(data)\n",
    "print(\"Original DataFrame:\")\n",
    "print(df)\n",
    "print(f\"Shape: {df.shape}\")  # (rows, columns)"
   ]
  },
  {
   "cell_type": "code",
   "execution_count": 4,
   "id": "5ad5fc13-a813-445f-8055-9d66922edbe1",
   "metadata": {},
   "outputs": [
    {
     "name": "stdout",
     "output_type": "stream",
     "text": [
      "\n",
      "📊 DATAFRAME EXPLORATION\n",
      "==============================\n",
      "Data types:\n",
      "name          object\n",
      "age            int64\n",
      "city          object\n",
      "salary         int64\n",
      "department    object\n",
      "dtype: object\n",
      "\n",
      "Basic statistics:\n",
      "             age       salary\n",
      "count   5.000000     5.000000\n",
      "mean   30.000000  6000.000000\n",
      "std     3.807887   790.569415\n",
      "min    25.000000  5000.000000\n",
      "25%    28.000000  5500.000000\n",
      "50%    30.000000  6000.000000\n",
      "75%    32.000000  6500.000000\n",
      "max    35.000000  7000.000000\n",
      "\n",
      "First 3 rows:\n",
      "     name  age    city  salary department\n",
      "0   Ahmed   25   Dubai    5000         IT\n",
      "1  Fatima   30  Muscat    6500    Finance\n",
      "2    Omar   35  Riyadh    7000         IT\n",
      "\n",
      "Column names:\n",
      "['name', 'age', 'city', 'salary', 'department']\n",
      "\n",
      "Info about DataFrame:\n",
      "<class 'pandas.core.frame.DataFrame'>\n",
      "RangeIndex: 5 entries, 0 to 4\n",
      "Data columns (total 5 columns):\n",
      " #   Column      Non-Null Count  Dtype \n",
      "---  ------      --------------  ----- \n",
      " 0   name        5 non-null      object\n",
      " 1   age         5 non-null      int64 \n",
      " 2   city        5 non-null      object\n",
      " 3   salary      5 non-null      int64 \n",
      " 4   department  5 non-null      object\n",
      "dtypes: int64(2), object(3)\n",
      "memory usage: 328.0+ bytes\n"
     ]
    }
   ],
   "source": [
    "# =====================================\n",
    "# 2. DATAFRAME EXPLORATION\n",
    "# =====================================\n",
    "\n",
    "print(\"\\n📊 DATAFRAME EXPLORATION\")\n",
    "print(\"=\"*30)\n",
    "\n",
    "# Basic info about the DataFrame\n",
    "print(\"Data types:\")\n",
    "print(df.dtypes)\n",
    "\n",
    "print(\"\\nBasic statistics:\")\n",
    "print(df.describe())\n",
    "\n",
    "print(\"\\nFirst 3 rows:\")\n",
    "print(df.head(3))\n",
    "\n",
    "print(\"\\nColumn names:\")\n",
    "print(df.columns.tolist())\n",
    "\n",
    "print(\"\\nInfo about DataFrame:\")\n",
    "df.info()"
   ]
  },
  {
   "cell_type": "code",
   "execution_count": 5,
   "id": "7c75aa0d-a5db-415a-a436-6d2188a9e84c",
   "metadata": {},
   "outputs": [
    {
     "name": "stdout",
     "output_type": "stream",
     "text": [
      "\n",
      " SELECTING AND FILTERING\n",
      "==============================\n",
      "Names only:\n",
      "['Ahmed', 'Fatima', 'Omar', 'Sara', 'Ali']\n",
      "\n",
      "Name and salary:\n",
      "     name  salary\n",
      "0   Ahmed    5000\n",
      "1  Fatima    6500\n",
      "2    Omar    7000\n",
      "3    Sara    5500\n",
      "4     Ali    6000\n",
      "\n",
      "People over 30:\n",
      "   name  age    city  salary department\n",
      "2  Omar   35  Riyadh    7000         IT\n",
      "4   Ali   32    Doha    6000    Finance\n",
      "\n",
      "IT department with salary > 5500:\n",
      "   name  age    city  salary department\n",
      "2  Omar   35  Riyadh    7000         IT\n",
      "\n",
      "People in GCC cities: 4\n"
     ]
    }
   ],
   "source": [
    "# =====================================\n",
    "# 3. SELECTING AND FILTERING DATA\n",
    "# =====================================\n",
    "\n",
    "print(\"\\n SELECTING AND FILTERING\")\n",
    "print(\"=\"*30)\n",
    "\n",
    "# Select single column\n",
    "print(\"Names only:\")\n",
    "print(df['name'].tolist())\n",
    "\n",
    "# Select multiple columns\n",
    "print(\"\\nName and salary:\")\n",
    "print(df[['name', 'salary']])\n",
    "\n",
    "# Filter rows based on condition\n",
    "print(\"\\nPeople over 30:\")\n",
    "print(df[df['age'] > 30])\n",
    "\n",
    "# Multiple conditions\n",
    "print(\"\\nIT department with salary > 5500:\")\n",
    "it_high_salary = df[(df['department'] == 'IT') & (df['salary'] > 5500)]\n",
    "print(it_high_salary)\n",
    "\n",
    "# Filter by city list\n",
    "gcc_cities = ['Dubai', 'Muscat', 'Doha', 'Kuwait']\n",
    "gcc_people = df[df['city'].isin(gcc_cities)]\n",
    "print(f\"\\nPeople in GCC cities: {len(gcc_people)}\")"
   ]
  },
  {
   "cell_type": "code",
   "execution_count": 6,
   "id": "f1c0c87a-2735-4cf0-9883-30c55ab238ed",
   "metadata": {},
   "outputs": [
    {
     "name": "stdout",
     "output_type": "stream",
     "text": [
      "\n",
      " ADDING AND MODIFYING DATA\n",
      "==============================\n",
      "DataFrame with new columns:\n",
      "     name  salary  salary_usd salary_category\n",
      "0   Ahmed    5000      1350.0             Low\n",
      "1  Fatima    6500      1755.0          Medium\n",
      "2    Omar    7000      1890.0            High\n",
      "3    Sara    5500      1485.0             Low\n",
      "4     Ali    6000      1620.0          Medium\n"
     ]
    }
   ],
   "source": [
    "# =====================================\n",
    "# 4. ADDING AND MODIFYING DATA\n",
    "# =====================================\n",
    "\n",
    "print(\"\\n ADDING AND MODIFYING DATA\")\n",
    "print(\"=\"*30)\n",
    "\n",
    "# Add new column\n",
    "df['salary_usd'] = df['salary'] * 0.27  # Convert to USD (approximate)\n",
    "df['experience'] = df['age'] - 22     # Assume started working at 22\n",
    "\n",
    "# Create categorical column\n",
    "df['salary_category'] = pd.cut(df['salary'], \n",
    "                              bins=[0, 5500, 6500, float('inf')], \n",
    "                              labels=['Low', 'Medium', 'High'])\n",
    "\n",
    "print(\"DataFrame with new columns:\")\n",
    "print(df[['name', 'salary', 'salary_usd', 'salary_category']])"
   ]
  },
  {
   "cell_type": "code",
   "execution_count": 7,
   "id": "f4b19ba5-9296-42c2-8c8a-87ab0c32afaf",
   "metadata": {},
   "outputs": [
    {
     "name": "stdout",
     "output_type": "stream",
     "text": [
      "\n",
      "📈 GROUPING AND AGGREGATION\n",
      "==============================\n",
      "Department statistics:\n",
      "            salary                     age\n",
      "              mean   max   min count  mean\n",
      "department                                \n",
      "Finance     6250.0  6500  6000     2  31.0\n",
      "HR          5500.0  5500  5500     1  28.0\n",
      "IT          6000.0  7000  5000     2  30.0\n",
      "\n",
      "Average salary by city:\n",
      "city\n",
      "Riyadh    7000.0\n",
      "Muscat    6500.0\n",
      "Doha      6000.0\n",
      "Kuwait    5500.0\n",
      "Dubai     5000.0\n",
      "Name: salary, dtype: float64\n"
     ]
    }
   ],
   "source": [
    "# =====================================\n",
    "# 5. GROUPING AND AGGREGATION\n",
    "# =====================================\n",
    "\n",
    "print(\"\\n📈 GROUPING AND AGGREGATION\")\n",
    "print(\"=\"*30)\n",
    "\n",
    "# Group by department\n",
    "dept_stats = df.groupby('department').agg({\n",
    "    'salary': ['mean', 'max', 'min', 'count'],\n",
    "    'age': 'mean'\n",
    "}).round(2)\n",
    "\n",
    "print(\"Department statistics:\")\n",
    "print(dept_stats)\n",
    "\n",
    "# Simple groupby\n",
    "print(\"\\nAverage salary by city:\")\n",
    "city_avg = df.groupby('city')['salary'].mean().sort_values(ascending=False)\n",
    "print(city_avg)"
   ]
  },
  {
   "cell_type": "code",
   "execution_count": 8,
   "id": "a7b400f4-1518-44e1-86c4-37258b4e301e",
   "metadata": {},
   "outputs": [
    {
     "name": "stdout",
     "output_type": "stream",
     "text": [
      "\n",
      "🔄 SORTING AND RANKING\n",
      "=========================\n",
      "Sorted by salary (highest first):\n",
      "     name  salary\n",
      "2    Omar    7000\n",
      "1  Fatima    6500\n",
      "4     Ali    6000\n",
      "3    Sara    5500\n",
      "0   Ahmed    5000\n",
      "\n",
      "Sorted by department, then salary:\n",
      "     name department  salary\n",
      "1  Fatima    Finance    6500\n",
      "4     Ali    Finance    6000\n",
      "3    Sara         HR    5500\n",
      "2    Omar         IT    7000\n",
      "0   Ahmed         IT    5000\n"
     ]
    }
   ],
   "source": [
    "# =====================================\n",
    "# 6. SORTING AND RANKING\n",
    "# =====================================\n",
    "\n",
    "print(\"\\n🔄 SORTING AND RANKING\")\n",
    "print(\"=\"*25)\n",
    "\n",
    "# Sort by salary (descending)\n",
    "print(\"Sorted by salary (highest first):\")\n",
    "sorted_df = df.sort_values('salary', ascending=False)\n",
    "print(sorted_df[['name', 'salary']])\n",
    "\n",
    "# Multiple column sorting\n",
    "print(\"\\nSorted by department, then salary:\")\n",
    "multi_sort = df.sort_values(['department', 'salary'], ascending=[True, False])\n",
    "print(multi_sort[['name', 'department', 'salary']])"
   ]
  },
  {
   "cell_type": "code",
   "execution_count": 9,
   "id": "fee1d59f-29dd-4da4-bfb1-d9d900c9533d",
   "metadata": {},
   "outputs": [
    {
     "name": "stdout",
     "output_type": "stream",
     "text": [
      "\n",
      " HANDLING MISSING DATA\n",
      "=========================\n",
      "Data with missing values:\n",
      "name               0\n",
      "age                1\n",
      "city               0\n",
      "salary             1\n",
      "department         0\n",
      "salary_usd         0\n",
      "experience         0\n",
      "salary_category    0\n",
      "dtype: int64\n",
      "After filling missing values:\n",
      "     name   age  salary\n",
      "0   Ahmed  25.0  5000.0\n",
      "1  Fatima  30.0  5875.0\n",
      "2    Omar  35.0  7000.0\n",
      "3    Sara  31.0  5500.0\n",
      "4     Ali  32.0  6000.0\n"
     ]
    }
   ],
   "source": [
    "# =====================================\n",
    "# 7. WORKING WITH MISSING DATA\n",
    "# =====================================\n",
    "\n",
    "print(\"\\n HANDLING MISSING DATA\")\n",
    "print(\"=\"*25)\n",
    "\n",
    "# Create DataFrame with missing values\n",
    "data_with_na = df.copy()\n",
    "data_with_na.loc[1, 'salary'] = np.nan\n",
    "data_with_na.loc[3, 'age'] = np.nan\n",
    "\n",
    "print(\"Data with missing values:\")\n",
    "print(data_with_na.isnull().sum())\n",
    "\n",
    "# Fill missing values\n",
    "filled_df = data_with_na.fillna({\n",
    "    'salary': data_with_na['salary'].mean(),\n",
    "    'age': data_with_na['age'].median()\n",
    "})\n",
    "\n",
    "print(\"After filling missing values:\")\n",
    "print(filled_df[['name', 'age', 'salary']])"
   ]
  },
  {
   "cell_type": "code",
   "execution_count": 10,
   "id": "8cae0def-e2ed-40c6-a385-288c885ef586",
   "metadata": {},
   "outputs": [
    {
     "name": "stdout",
     "output_type": "stream",
     "text": [
      "\n",
      "READING AND WRITING FILES\n",
      "==============================\n",
      "Saved to employees.csv\n",
      "Loaded from CSV - shape: (5, 8)\n",
      "Excel export requires: pip install openpyxl\n"
     ]
    }
   ],
   "source": [
    "# =====================================\n",
    "# 8. READING AND WRITING DATA\n",
    "# =====================================\n",
    "\n",
    "print(\"\\nREADING AND WRITING FILES\")\n",
    "print(\"=\"*30)\n",
    "\n",
    "# Save to CSV\n",
    "df.to_csv('employees.csv', index=False)\n",
    "print(\"Saved to employees.csv\")\n",
    "\n",
    "# Read from CSV\n",
    "df_loaded = pd.read_csv('employees.csv')\n",
    "print(\"Loaded from CSV - shape:\", df_loaded.shape)\n",
    "\n",
    "# Save to Excel (requires openpyxl: pip install openpyxl)\n",
    "try:\n",
    "    df.to_excel('employees.xlsx', index=False)\n",
    "    print(\"Saved to employees.xlsx\")\n",
    "except ImportError:\n",
    "    print(\"Excel export requires: pip install openpyxl\")"
   ]
  },
  {
   "cell_type": "code",
   "execution_count": 11,
   "id": "4f56d054-8d26-401d-bc30-6160440656e1",
   "metadata": {},
   "outputs": [
    {
     "name": "stdout",
     "output_type": "stream",
     "text": [
      "\n",
      "GEODATAFRAME BASICS\n",
      "=========================\n",
      "GeoDataFrame:\n",
      "     city       country  population  longitude  latitude  \\\n",
      "0   Dubai           UAE     3400000    55.2708   25.2048   \n",
      "1  Muscat          Oman     1560000    58.5920   23.5859   \n",
      "2  Riyadh  Saudi Arabia     7000000    46.6753   24.7136   \n",
      "3  Kuwait        Kuwait     4270000    47.9774   29.3117   \n",
      "4    Doha         Qatar     2850000    51.5310   25.2760   \n",
      "\n",
      "                  geometry  \n",
      "0  POINT (55.2708 25.2048)  \n",
      "1   POINT (58.592 23.5859)  \n",
      "2  POINT (46.6753 24.7136)  \n",
      "3  POINT (47.9774 29.3117)  \n",
      "4    POINT (51.531 25.276)  \n"
     ]
    }
   ],
   "source": [
    "# =====================================\n",
    "# 9. GEODATAFRAME BASICS (GEOSPATIAL DATA)\n",
    "# =====================================\n",
    "\n",
    "print(\"\\nGEODATAFRAME BASICS\")\n",
    "print(\"=\"*25)\n",
    "\n",
    "# Create GeoDataFrame with point coordinates\n",
    "# Sample coordinates for GCC cities\n",
    "geo_data = {\n",
    "    'city': ['Dubai', 'Muscat', 'Riyadh', 'Kuwait', 'Doha'],\n",
    "    'country': ['UAE', 'Oman', 'Saudi Arabia', 'Kuwait', 'Qatar'],\n",
    "    'population': [3400000, 1560000, 7000000, 4270000, 2850000],\n",
    "    'longitude': [55.2708, 58.5920, 46.6753, 47.9774, 51.5310],\n",
    "    'latitude': [25.2048, 23.5859, 24.7136, 29.3117, 25.2760]\n",
    "}\n",
    "\n",
    "# Create geometry column (Point objects)\n",
    "geometry = [\n",
    "    Point(lon, lat) for lon, lat in zip(geo_data['longitude'], geo_data['latitude'])\n",
    "]\n",
    "\n",
    "# Create GeoDataFrame\n",
    "gdf = gpd.GeoDataFrame(geo_data, geometry=geometry, crs='EPSG:4326')\n",
    "\n",
    "print(\"GeoDataFrame:\")\n",
    "print(gdf)"
   ]
  },
  {
   "cell_type": "code",
   "execution_count": 12,
   "id": "95cc5183-a1ce-4dee-98ed-75fb3111ba7b",
   "metadata": {},
   "outputs": [
    {
     "name": "stdout",
     "output_type": "stream",
     "text": [
      "\n",
      "Coordinate Reference System: EPSG:4326\n",
      "Geometry type: Point\n"
     ]
    }
   ],
   "source": [
    "print(f\"\\nCoordinate Reference System: {gdf.crs}\")\n",
    "print(f\"Geometry type: {gdf.geometry.geom_type.iloc[0]}\")"
   ]
  },
  {
   "cell_type": "code",
   "execution_count": 13,
   "id": "2c6efb8b-74d7-4782-85ed-3c94a8881842",
   "metadata": {},
   "outputs": [
    {
     "name": "stdout",
     "output_type": "stream",
     "text": [
      "\n",
      "GEOSPATIAL OPERATIONS (CORRECTED)\n",
      "========================================\n",
      "Original CRS: EPSG:4326\n",
      "Projected CRS: EPSG:32640\n"
     ]
    }
   ],
   "source": [
    "# =====================================\n",
    "# 10. GEOSPATIAL OPERATIONS\n",
    "# =====================================\n",
    "\n",
    "print(\"\\nGEOSPATIAL OPERATIONS (CORRECTED)\")\n",
    "print(\"=\"*40)\n",
    "\n",
    "# Project to UTM Zone 40N \n",
    "gdf_projected = gdf.to_crs('EPSG:32640')    # UTM Zone 40N\n",
    "\n",
    "print(f\"Original CRS: {gdf.crs}\")\n",
    "print(f\"Projected CRS: {gdf_projected.crs}\")"
   ]
  },
  {
   "cell_type": "code",
   "execution_count": 14,
   "id": "43e51c71-a836-4309-bfac-60c53403b05f",
   "metadata": {},
   "outputs": [
    {
     "name": "stdout",
     "output_type": "stream",
     "text": [
      "\n",
      "Distances to Dubai (km):\n",
      "     city  distance_to_dubai_km\n",
      "0   Dubai                   0.0\n",
      "4    Doha                 377.4\n",
      "1  Muscat                 381.5\n",
      "3  Kuwait                 856.3\n",
      "2  Riyadh                 873.9\n"
     ]
    }
   ],
   "source": [
    "# Calculate distances between cities (in meters, then convert to km)\n",
    "dubai_point_proj = gdf_projected[gdf_projected['city'] == 'Dubai'].geometry.iloc[0]\n",
    "gdf_projected['distance_to_dubai_m'] = gdf_projected.geometry.distance(dubai_point_proj)\n",
    "gdf_projected['distance_to_dubai_km'] = gdf_projected['distance_to_dubai_m'] / 1000\n",
    "\n",
    "print(\"\\nDistances to Dubai (km):\")\n",
    "distance_df = gdf_projected[['city', 'distance_to_dubai_km']].sort_values('distance_to_dubai_km')\n",
    "print(distance_df.round(1))"
   ]
  },
  {
   "cell_type": "code",
   "execution_count": 15,
   "id": "9e80c22b-f781-48f4-b2e0-27ceb449f1ee",
   "metadata": {},
   "outputs": [
    {
     "name": "stdout",
     "output_type": "stream",
     "text": [
      "\n",
      "Buffer areas (square km):\n",
      "     city  buffer_area_sqkm\n",
      "0   Dubai           31365.5\n",
      "1  Muscat           31365.5\n",
      "2  Riyadh           31365.5\n",
      "3  Kuwait           31365.5\n",
      "4    Doha           31365.5\n"
     ]
    }
   ],
   "source": [
    "# Create buffer zones (100km radius in meters)\n",
    "gdf_projected['buffer_100km'] = gdf_projected.geometry.buffer(100000)  # 100,000 meters = 100km\n",
    "\n",
    "# Calculate area of buffers (in square meters, then convert to square km)\n",
    "gdf_projected['buffer_area_sqm'] = gdf_projected['buffer_100km'].area\n",
    "gdf_projected['buffer_area_sqkm'] = gdf_projected['buffer_area_sqm'] / 1_000_000\n",
    "\n",
    "print(\"\\nBuffer areas (square km):\")\n",
    "print(gdf_projected[['city', 'buffer_area_sqkm']].round(1))"
   ]
  },
  {
   "cell_type": "code",
   "execution_count": 16,
   "id": "43aae987-7fe2-40b1-aa50-8a895f2c5893",
   "metadata": {},
   "outputs": [
    {
     "name": "stdout",
     "output_type": "stream",
     "text": [
      "\n",
      "Cities within 500km of Dubai:\n",
      "     city  distance_to_dubai_km\n",
      "0   Dubai                   0.0\n",
      "1  Muscat                 381.5\n",
      "4    Doha                 377.4\n"
     ]
    }
   ],
   "source": [
    "# Check which cities are within 500km of Dubai\n",
    "print(\"\\nCities within 500km of Dubai:\")\n",
    "near_dubai = gdf_projected[gdf_projected['distance_to_dubai_km'] < 500]\n",
    "print(near_dubai[['city', 'distance_to_dubai_km']].round(1))"
   ]
  },
  {
   "cell_type": "code",
   "execution_count": 17,
   "id": "c70f6789-1d0a-4213-b6d6-98c22270aa5d",
   "metadata": {},
   "outputs": [
    {
     "name": "stdout",
     "output_type": "stream",
     "text": [
      "\n",
      "Geospatial operations completed without warnings!\n",
      "Important note: Always use projected CRS for geometric calculations\n"
     ]
    }
   ],
   "source": [
    "# Optional: Convert back to geographic coordinates for visualization\n",
    "gdf_with_buffers = gdf_projected.to_crs('EPSG:4326')\n",
    "\n",
    "print(\"\\nGeospatial operations completed without warnings!\")\n",
    "print(\"Important note: Always use projected CRS for geometric calculations\")"
   ]
  },
  {
   "cell_type": "code",
   "execution_count": 18,
   "id": "61399d49-6cb6-4bc4-b4a5-c5401c8feafb",
   "metadata": {},
   "outputs": [
    {
     "name": "stdout",
     "output_type": "stream",
     "text": [
      "\n",
      "Geodesic Distance Calculation\n",
      "========================================\n",
      "Geodesic distances to Dubai (km):\n",
      "     city  geodesic_distance_km\n",
      "0   Dubai                   0.0\n",
      "4    Doha                 376.9\n",
      "1  Muscat                 381.6\n",
      "3  Kuwait                 853.3\n",
      "2  Riyadh                 869.6\n"
     ]
    }
   ],
   "source": [
    "# ********************************************\n",
    "# Alternative method using geodesic distance \n",
    "# (more accurate for large distances)\n",
    "# ********************************************\n",
    "\n",
    "# We need to use the geopy module\n",
    "from geopy.distance import geodesic\n",
    "\n",
    "print(\"\\nGeodesic Distance Calculation\")\n",
    "print(\"=\"*40)\n",
    "\n",
    "# Get Dubai coordinates\n",
    "dubai_coords = (gdf.loc[gdf['city'] == 'Dubai', 'latitude'].iloc[0], \n",
    "                gdf.loc[gdf['city'] == 'Dubai', 'longitude'].iloc[0])\n",
    "\n",
    "# Calculate geodesic distances (accounts for Earth's curvature)\n",
    "def calc_geodesic_distance(row):\n",
    "    city_coords = (row['latitude'], row['longitude'])\n",
    "    return geodesic(dubai_coords, city_coords).kilometers\n",
    "\n",
    "try:\n",
    "    gdf['geodesic_distance_km'] = gdf.apply(calc_geodesic_distance, axis=1)\n",
    "    print(\"Geodesic distances to Dubai (km):\")\n",
    "    print(gdf[['city', 'geodesic_distance_km']].sort_values('geodesic_distance_km').round(1))\n",
    "except ImportError:\n",
    "    print(\"⚠️ Install geopy for geodesic calculations: pip install geopy\")"
   ]
  },
  {
   "cell_type": "code",
   "execution_count": 19,
   "id": "896a067e-1e35-4177-9c6d-f35d7163d9e3",
   "metadata": {},
   "outputs": [
    {
     "name": "stdout",
     "output_type": "stream",
     "text": [
      "\n",
      "GEOSPATIAL FILE OPERATIONS\n",
      "==============================\n",
      "Saved as Shapefile (gcc_cities.shp)\n"
     ]
    },
    {
     "name": "stderr",
     "output_type": "stream",
     "text": [
      "/var/folders/cx/fn5n187j3gvcxmbg_th_xjg00000gn/T/ipykernel_59878/3484358278.py:10: UserWarning: Column names longer than 10 characters will be truncated when saved to ESRI Shapefile.\n",
      "  gdf.to_file('gcc_cities.shp')\n",
      "/opt/homebrew/Caskroom/miniforge/base/envs/gee-env/lib/python3.11/site-packages/pyogrio/raw.py:723: RuntimeWarning: Normalized/laundered field name: 'geodesic_distance_km' to 'geodesic_d'\n",
      "  ogr_write(\n"
     ]
    }
   ],
   "source": [
    "# =====================================\n",
    "# 11. GEOSPATIAL FILE OPERATIONS\n",
    "# =====================================\n",
    "\n",
    "print(\"\\nGEOSPATIAL FILE OPERATIONS\")\n",
    "print(\"=\"*30)\n",
    "\n",
    "# Save as Shapefile\n",
    "try:\n",
    "    gdf.to_file('gcc_cities.shp')\n",
    "    print(\"Saved as Shapefile (gcc_cities.shp)\")\n",
    "except Exception as e:\n",
    "    print(f\"Shapefile export error: {e}\")"
   ]
  },
  {
   "cell_type": "code",
   "execution_count": 20,
   "id": "a325dd3c-8c38-4c61-aeb2-db2b8ad5c8bf",
   "metadata": {},
   "outputs": [
    {
     "name": "stdout",
     "output_type": "stream",
     "text": [
      "✅ Saved as GeoJSON\n",
      "✅ Loaded GeoJSON - shape: (5, 7)\n"
     ]
    }
   ],
   "source": [
    "# Save as GeoJSON\n",
    "gdf.to_file('gcc_cities.geojson', driver='GeoJSON')\n",
    "print(\"✅ Saved as GeoJSON\")\n",
    "\n",
    "# Load back from file\n",
    "try:\n",
    "    loaded_gdf = gpd.read_file('gcc_cities.geojson')\n",
    "    print(f\"✅ Loaded GeoJSON - shape: {loaded_gdf.shape}\")\n",
    "except Exception as e:\n",
    "    print(f\"⚠️ Loading error: {e}\")"
   ]
  },
  {
   "cell_type": "code",
   "execution_count": 21,
   "id": "ef5f1073-88db-4638-bba2-faa3e293a299",
   "metadata": {},
   "outputs": [
    {
     "name": "stdout",
     "output_type": "stream",
     "text": [
      "\n",
      "==================================================\n",
      "🚀 QUICK REFERENCE - ESSENTIAL OPERATIONS\n",
      "==================================================\n",
      "\n",
      "📊 DATAFRAME ESSENTIALS:\n",
      "- df.head()              # First 5 rows\n",
      "- df.info()              # Data types and memory\n",
      "- df.describe()          # Statistical summary\n",
      "- df.shape               # (rows, columns)\n",
      "- df['column']           # Select column\n",
      "- df[df['col'] > value]  # Filter rows\n",
      "- df.groupby('col').mean() # Group and aggregate\n",
      "- df.sort_values('col')  # Sort by column\n",
      "\n",
      "💾 FILE OPERATIONS:\n",
      "- pd.read_csv('file.csv')     # Read CSV\n",
      "- df.to_csv('file.csv')       # Write CSV\n",
      "- pd.read_excel('file.xlsx')  # Read Excel\n",
      "- df.to_excel('file.xlsx')    # Write Excel\n",
      "\n",
      "🗺️ GEODATAFRAME ESSENTIALS:\n",
      "- gpd.read_file('file.shp')   # Read spatial file\n",
      "- gdf.to_file('file.geojson') # Write spatial file\n",
      "- gdf.geometry.distance()     # Calculate distances\n",
      "- gdf.geometry.buffer()       # Create buffers\n",
      "- gdf.crs                     # Coordinate system\n",
      "\n",
      "\n",
      "DataFrames and GeoDataFrames Complete!\n",
      "Practice with real datasets to master these tools\n",
      "These are the building blocks for data science and GIS!\n"
     ]
    }
   ],
   "source": [
    "# =====================================\n",
    "# 12. QUICK REFERENCE - ESSENTIAL OPERATIONS\n",
    "# =====================================\n",
    "\n",
    "print(\"\\n\" + \"=\"*50)\n",
    "print(\"🚀 QUICK REFERENCE - ESSENTIAL OPERATIONS\")\n",
    "print(\"=\"*50)\n",
    "\n",
    "print(\"\"\"\n",
    "📊 DATAFRAME ESSENTIALS:\n",
    "- df.head()              # First 5 rows\n",
    "- df.info()              # Data types and memory\n",
    "- df.describe()          # Statistical summary\n",
    "- df.shape               # (rows, columns)\n",
    "- df['column']           # Select column\n",
    "- df[df['col'] > value]  # Filter rows\n",
    "- df.groupby('col').mean() # Group and aggregate\n",
    "- df.sort_values('col')  # Sort by column\n",
    "\n",
    "💾 FILE OPERATIONS:\n",
    "- pd.read_csv('file.csv')     # Read CSV\n",
    "- df.to_csv('file.csv')       # Write CSV\n",
    "- pd.read_excel('file.xlsx')  # Read Excel\n",
    "- df.to_excel('file.xlsx')    # Write Excel\n",
    "\n",
    "🗺️ GEODATAFRAME ESSENTIALS:\n",
    "- gpd.read_file('file.shp')   # Read spatial file\n",
    "- gdf.to_file('file.geojson') # Write spatial file\n",
    "- gdf.geometry.distance()     # Calculate distances\n",
    "- gdf.geometry.buffer()       # Create buffers\n",
    "- gdf.crs                     # Coordinate system\n",
    "\"\"\")\n",
    "\n",
    "print(\"\\nDataFrames and GeoDataFrames Complete!\")\n",
    "print(\"Practice with real datasets to master these tools\")\n",
    "print(\"These are the building blocks for data science and GIS!\")"
   ]
  },
  {
   "cell_type": "code",
   "execution_count": null,
   "id": "5d1c5baf-c843-4bc7-b182-9ed84f71c0c8",
   "metadata": {},
   "outputs": [],
   "source": []
  }
 ],
 "metadata": {
  "kernelspec": {
   "display_name": "GEE-Env:Py3.11",
   "language": "python",
   "name": "gee-env"
  },
  "language_info": {
   "codemirror_mode": {
    "name": "ipython",
    "version": 3
   },
   "file_extension": ".py",
   "mimetype": "text/x-python",
   "name": "python",
   "nbconvert_exporter": "python",
   "pygments_lexer": "ipython3",
   "version": "3.11.0"
  }
 },
 "nbformat": 4,
 "nbformat_minor": 5
}
