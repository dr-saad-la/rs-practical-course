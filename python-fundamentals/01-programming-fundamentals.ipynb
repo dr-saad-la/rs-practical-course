{
 "cells": [
  {
   "cell_type": "code",
   "execution_count": 1,
   "id": "bef34878-7435-46c6-b52b-fe70bf9d7304",
   "metadata": {},
   "outputs": [],
   "source": [
    "# *******************************************************\n",
    "#  Lesson: Python Essentials - Quick Start Guide\n",
    "#  Author: Dr. Saad Laouadi\n",
    "# *******************************************************"
   ]
  },
  {
   "cell_type": "code",
   "execution_count": 2,
   "id": "8fa423fc-d756-46c8-8a5d-f28a8bebda4b",
   "metadata": {},
   "outputs": [
    {
     "name": "stdout",
     "output_type": "stream",
     "text": [
      "Age: 25, Height: 5.9\n",
      "Alice lives in Dubai\n",
      "Student: True, Working: False\n"
     ]
    }
   ],
   "source": [
    "# =====================================\n",
    "# 1. VARIABLES AND DATA TYPES\n",
    "# =====================================\n",
    "\n",
    "# Numbers\n",
    "age = 24\n",
    "height = 5.9\n",
    "print(f\"Age: {age}, Height: {height}\")\n",
    "\n",
    "# Strings\n",
    "name = \"Alice\"\n",
    "city = 'Dubai'\n",
    "full_address = f\"{name} lives in {city}\"  # f-string formatting\n",
    "print(full_address)\n",
    "\n",
    "# Booleans\n",
    "is_student = True\n",
    "is_working = False\n",
    "print(f\"Student: {is_student}, Working: {is_working}\")"
   ]
  },
  {
   "cell_type": "code",
   "execution_count": 3,
   "id": "7c9b27ec-734b-4a35-a2bd-a3ce95c26461",
   "metadata": {},
   "outputs": [
    {
     "name": "stdout",
     "output_type": "stream",
     "text": [
      "Cities: ['Abu Dhabi', 'Muscat', 'Riyadh', 'Kuwait', 'Doha']\n",
      "First city: Abu Dhabi\n",
      "Last city: Doha\n",
      "Person: {'name': 'Ahmed', 'age': 30, 'city': 'Muscat', 'languages': ['Arabic', 'English'], 'job': 'Engineer'}\n",
      "Name: Ahmed\n"
     ]
    }
   ],
   "source": [
    "# =====================================\n",
    "# 2. COLLECTIONS (ESSENTIAL DATA STRUCTURES)\n",
    "# =====================================\n",
    "\n",
    "# Lists - ordered, changeable, allow duplicates\n",
    "cities = [\"Dubai\", \"Muscat\", \"Riyadh\", \"Kuwait\"]\n",
    "cities.append(\"Doha\")  # Add item\n",
    "cities[0] = \"Abu Dhabi\"  # Change first item\n",
    "print(f\"Cities: {cities}\")\n",
    "print(f\"First city: {cities[0]}\")\n",
    "print(f\"Last city: {cities[-1]}\")\n",
    "\n",
    "# Dictionaries - key-value pairs\n",
    "person = {\n",
    "    \"name\": \"Ahmed\",\n",
    "    \"age\": 30,\n",
    "    \"city\": \"Muscat\",\n",
    "    \"languages\": [\"Arabic\", \"English\"]\n",
    "}\n",
    "person[\"job\"] = \"Engineer\"  # Add new key\n",
    "print(f\"Person: {person}\")\n",
    "print(f\"Name: {person['name']}\")"
   ]
  },
  {
   "cell_type": "code",
   "execution_count": 4,
   "id": "ec06acb7-a43d-4163-b72d-1ae7c2b66dee",
   "metadata": {},
   "outputs": [
    {
     "name": "stdout",
     "output_type": "stream",
     "text": [
      "\n",
      "All cities:\n",
      "- Abu Dhabi\n",
      "- Muscat\n",
      "- Riyadh\n",
      "- Kuwait\n",
      "- Doha\n",
      "\n",
      "Numbers 0 to 4:\n",
      "0\n",
      "1\n",
      "2\n",
      "3\n",
      "4\n",
      "Count: 0\n",
      "Count: 1\n",
      "Count: 2\n"
     ]
    }
   ],
   "source": [
    "# =====================================\n",
    "# 3. LOOPS - REPEAT ACTIONS\n",
    "# =====================================\n",
    "\n",
    "# For loop - iterate through items\n",
    "print(\"\\nAll cities:\")\n",
    "for city in cities:\n",
    "    print(f\"- {city}\")\n",
    "\n",
    "# For loop with range\n",
    "print(\"\\nNumbers 0 to 4:\")\n",
    "for i in range(5):\n",
    "    print(i)\n",
    "\n",
    "# While loop\n",
    "count = 0\n",
    "while count < 3:\n",
    "    print(f\"Count: {count}\")\n",
    "    count += 1"
   ]
  },
  {
   "cell_type": "code",
   "execution_count": 5,
   "id": "b63bfd0b-0af2-449e-b0b6-6f7e160aeb51",
   "metadata": {},
   "outputs": [
    {
     "name": "stdout",
     "output_type": "stream",
     "text": [
      "Hot weather\n"
     ]
    }
   ],
   "source": [
    "# =====================================\n",
    "# 4. CONDITIONALS - MAKE DECISIONS\n",
    "# =====================================\n",
    "\n",
    "temperature = 35\n",
    "\n",
    "if temperature > 40:\n",
    "    print(\"Very hot!\")\n",
    "elif temperature > 30:\n",
    "    print(\"Hot weather\")\n",
    "elif temperature > 20:\n",
    "    print(\"Nice weather\")\n",
    "else:\n",
    "    print(\"Cool weather\")"
   ]
  },
  {
   "cell_type": "code",
   "execution_count": 6,
   "id": "df2cabe5-5436-4697-8d07-da815adbce08",
   "metadata": {},
   "outputs": [
    {
     "name": "stdout",
     "output_type": "stream",
     "text": [
      "Hello, Sara!\n",
      "Ahlan, Omar!\n"
     ]
    }
   ],
   "source": [
    "# =====================================\n",
    "# 5. FUNCTIONS - REUSABLE CODE\n",
    "# =====================================\n",
    "\n",
    "def greet(name, language=\"English\"):\n",
    "    \"\"\"Greet someone in different languages\"\"\"\n",
    "    greetings = {\n",
    "        \"English\": f\"Hello, {name}!\",\n",
    "        \"Arabic\": f\"Ahlan, {name}!\",\n",
    "        \"French\": f\"Bonjour, {name}!\"\n",
    "    }\n",
    "    return greetings.get(language, f\"Hi, {name}!\")\n",
    "\n",
    "# Use the function\n",
    "print(greet(\"Sara\"))\n",
    "print(greet(\"Omar\", \"Arabic\"))"
   ]
  },
  {
   "cell_type": "code",
   "execution_count": 7,
   "id": "52c9f41c-5742-4897-939f-30ef11ed37b5",
   "metadata": {},
   "outputs": [
    {
     "name": "stdout",
     "output_type": "stream",
     "text": [
      "Squares: [1, 4, 9, 16, 25]\n",
      "Even numbers: [2, 4]\n"
     ]
    }
   ],
   "source": [
    "# =====================================\n",
    "# 6. LIST COMPREHENSIONS - POWERFUL ONE-LINERS\n",
    "# =====================================\n",
    "\n",
    "# Create new list from existing list\n",
    "numbers = [1, 2, 3, 4, 5]\n",
    "squares = [x**2 for x in numbers]  # Square each number\n",
    "print(f\"Squares: {squares}\")\n",
    "\n",
    "# Filter items\n",
    "even_numbers = [x for x in numbers if x % 2 == 0]\n",
    "print(f\"Even numbers: {even_numbers}\")"
   ]
  },
  {
   "cell_type": "code",
   "execution_count": 8,
   "id": "4b0a8f94-fe51-47be-bb45-8abff4ad9903",
   "metadata": {},
   "outputs": [
    {
     "name": "stdout",
     "output_type": "stream",
     "text": [
      "File content:\n",
      "Line 1\n",
      "Line 2\n",
      "Line 3\n",
      "\n"
     ]
    }
   ],
   "source": [
    "# =====================================\n",
    "# 7. WORKING WITH FILES\n",
    "# =====================================\n",
    "\n",
    "# Write to file\n",
    "data = [\"Line 1\", \"Line 2\", \"Line 3\"]\n",
    "with open(\"sample.txt\", \"w\") as file:\n",
    "    for line in data:\n",
    "        file.write(line + \"\\n\")\n",
    "\n",
    "# Read from file\n",
    "with open(\"sample.txt\", \"r\") as file:\n",
    "    content = file.read()\n",
    "    print(f\"File content:\\n{content}\")"
   ]
  },
  {
   "cell_type": "code",
   "execution_count": 9,
   "id": "e24b7a57-5171-42be-b0fb-aafa9e2a9395",
   "metadata": {},
   "outputs": [
    {
     "name": "stdout",
     "output_type": "stream",
     "text": [
      "5.0\n",
      "Cannot divide by zero!\n",
      "Please provide numbers only!\n"
     ]
    }
   ],
   "source": [
    "# =====================================\n",
    "# 8. ERROR HANDLING\n",
    "# =====================================\n",
    "\n",
    "def safe_divide(a, b):\n",
    "    \"\"\"Safely divide two numbers\"\"\"\n",
    "    try:\n",
    "        result = a / b\n",
    "        return result\n",
    "    except ZeroDivisionError:\n",
    "        return \"Cannot divide by zero!\"\n",
    "    except TypeError:\n",
    "        return \"Please provide numbers only!\"\n",
    "\n",
    "print(safe_divide(10, 2))   # Normal division\n",
    "print(safe_divide(10, 0))   # Division by zero\n",
    "print(safe_divide(10, \"a\")) # Wrong type"
   ]
  },
  {
   "cell_type": "code",
   "execution_count": 10,
   "id": "8db2a258-5869-41ac-9082-a3a4c118f6ca",
   "metadata": {},
   "outputs": [
    {
     "name": "stdout",
     "output_type": "stream",
     "text": [
      "Circle area: 78.54\n",
      "Current time: 2025-09-10 06:30:15\n"
     ]
    }
   ],
   "source": [
    "# =====================================\n",
    "# 9. WORKING WITH MODULES\n",
    "# =====================================\n",
    "\n",
    "import math\n",
    "from datetime import datetime\n",
    "\n",
    "# Use math module\n",
    "radius = 5\n",
    "area = math.pi * radius**2\n",
    "print(f\"Circle area: {area:.2f}\")\n",
    "\n",
    "# Use datetime\n",
    "now = datetime.now()\n",
    "print(f\"Current time: {now.strftime('%Y-%m-%d %H:%M:%S')}\")"
   ]
  },
  {
   "cell_type": "code",
   "execution_count": 11,
   "id": "19c54091-0e76-40d7-aa52-1859b113e311",
   "metadata": {},
   "outputs": [
    {
     "name": "stdout",
     "output_type": "stream",
     "text": [
      "Student: Fatima, Age: 20\n",
      "Average grade: 85.0\n"
     ]
    }
   ],
   "source": [
    "# =====================================\n",
    "# 10. CLASSES - OBJECT-ORIENTED PROGRAMMING\n",
    "# =====================================\n",
    "\n",
    "class Student:\n",
    "    \"\"\"A simple Student class\"\"\"\n",
    "    \n",
    "    def __init__(self, name, age):\n",
    "        self.name = name\n",
    "        self.age = age\n",
    "        self.grades = []\n",
    "    \n",
    "    def add_grade(self, grade):\n",
    "        \"\"\"Add a grade to student's record\"\"\"\n",
    "        self.grades.append(grade)\n",
    "    \n",
    "    def get_average(self):\n",
    "        \"\"\"Calculate average grade\"\"\"\n",
    "        if self.grades:\n",
    "            return sum(self.grades) / len(self.grades)\n",
    "        return 0\n",
    "    \n",
    "    def __str__(self):\n",
    "        \"\"\"String representation of student\"\"\"\n",
    "        return f\"Student: {self.name}, Age: {self.age}\"\n",
    "\n",
    "# Use the class\n",
    "student1 = Student(\"Fatima\", 20)\n",
    "student1.add_grade(85)\n",
    "student1.add_grade(92)\n",
    "student1.add_grade(78)\n",
    "\n",
    "print(student1)\n",
    "print(f\"Average grade: {student1.get_average():.1f}\")"
   ]
  },
  {
   "cell_type": "code",
   "execution_count": 12,
   "id": "091b0072-a6fa-4cfc-9ab3-86cebac435d4",
   "metadata": {},
   "outputs": [
    {
     "name": "stdout",
     "output_type": "stream",
     "text": [
      "\n",
      "========================================\n",
      "QUICK REFERENCE\n",
      "========================================\n",
      "Original: '  Hello World  '\n",
      "Uppercase: '  HELLO WORLD  '\n",
      "Lowercase: '  hello world  '\n",
      "Stripped: 'Hello World'\n",
      "Split: ['Hello', 'World']\n"
     ]
    }
   ],
   "source": [
    "# =====================================\n",
    "# QUICK REFERENCE - MOST USED OPERATIONS\n",
    "# =====================================\n",
    "\n",
    "print(\"\\n\" + \"=\"*40)\n",
    "print(\"QUICK REFERENCE\")\n",
    "print(\"=\"*40)\n",
    "\n",
    "# String operations\n",
    "text = \"  Hello World  \"\n",
    "print(f\"Original: '{text}'\")\n",
    "print(f\"Uppercase: '{text.upper()}'\")\n",
    "print(f\"Lowercase: '{text.lower()}'\")\n",
    "print(f\"Stripped: '{text.strip()}'\")\n",
    "print(f\"Split: {text.split()}\")"
   ]
  },
  {
   "cell_type": "code",
   "execution_count": 13,
   "id": "3f4c1ce5-2e6d-4508-af3c-6c94c4be2d9b",
   "metadata": {},
   "outputs": [
    {
     "name": "stdout",
     "output_type": "stream",
     "text": [
      "Length: 3\n",
      "Contains 'apple': True\n",
      "Joined: apple, banana, orange\n"
     ]
    }
   ],
   "source": [
    "# List operations\n",
    "fruits = [\"apple\", \"banana\", \"orange\"]\n",
    "print(f\"Length: {len(fruits)}\")\n",
    "print(f\"Contains 'apple': {'apple' in fruits}\")\n",
    "print(f\"Joined: {', '.join(fruits)}\")"
   ]
  },
  {
   "cell_type": "code",
   "execution_count": 14,
   "id": "09ae4432-fce3-4c19-a325-341f8ee7c221",
   "metadata": {},
   "outputs": [
    {
     "name": "stdout",
     "output_type": "stream",
     "text": [
      "Keys: ['math', 'science', 'english']\n",
      "Values: [95, 87, 92]\n",
      "Items: [('math', 95), ('science', 87), ('english', 92)]\n"
     ]
    }
   ],
   "source": [
    "# Dictionary operations\n",
    "scores = {\"math\": 95, \"science\": 87, \"english\": 92}\n",
    "print(f\"Keys: {list(scores.keys())}\")\n",
    "print(f\"Values: {list(scores.values())}\")\n",
    "print(f\"Items: {list(scores.items())}\")"
   ]
  },
  {
   "cell_type": "code",
   "execution_count": 15,
   "id": "9cfb3702-b9f8-40ba-b02f-5af2eecafb5b",
   "metadata": {},
   "outputs": [
    {
     "name": "stdout",
     "output_type": "stream",
     "text": [
      "\n",
      "Python Essentials Complete!\n",
      " Practice these concepts to build muscle memory\n",
      " Next: Learn about DataFrames and GeoDataFrames!\n"
     ]
    }
   ],
   "source": [
    "print(\"\\nPython Essentials Complete!\")\n",
    "print(\" Practice these concepts to build muscle memory\")\n",
    "print(\" Next: Learn about DataFrames and GeoDataFrames!\")"
   ]
  },
  {
   "cell_type": "code",
   "execution_count": null,
   "id": "1c2e6fb4-fcb7-446c-a709-4389b05cc379",
   "metadata": {},
   "outputs": [],
   "source": []
  }
 ],
 "metadata": {
  "kernelspec": {
   "display_name": "Python:3.12",
   "language": "python",
   "name": "python3"
  },
  "language_info": {
   "codemirror_mode": {
    "name": "ipython",
    "version": 3
   },
   "file_extension": ".py",
   "mimetype": "text/x-python",
   "name": "python",
   "nbconvert_exporter": "python",
   "pygments_lexer": "ipython3",
   "version": "3.12.5"
  }
 },
 "nbformat": 4,
 "nbformat_minor": 5
}
