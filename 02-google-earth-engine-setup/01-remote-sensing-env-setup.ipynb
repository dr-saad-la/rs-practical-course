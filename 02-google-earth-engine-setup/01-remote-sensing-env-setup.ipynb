{
 "cells": [
  {
   "cell_type": "markdown",
   "id": "1bd5fc93-a84f-414d-904a-9bce3f9ac9d5",
   "metadata": {},
   "source": [
    "## Creating a Remote Sensing Environment\n",
    "\n",
    "1. Create an isolated environment for Remote Sensing using `conda`\n",
    "\n",
    "```bash\n",
    "# Create new environment with essential geospatial packages\n",
    "conda create -n rs-ml python=3.11 -c conda-forge\n",
    "```\n",
    "\n",
    "2. Activate environment\n",
    "```bash\n",
    "conda activate rs-ml\n",
    "```\n",
    "\n",
    "3. Install core geospatial stack\n",
    "   ```bash\n",
    "   conda install -c conda-forge \\\n",
    "    gdal \\\n",
    "    rasterio \\\n",
    "    geopandas \\\n",
    "    shapely \\\n",
    "    fiona \\\n",
    "    pyproj \\\n",
    "    rtree \\\n",
    "    xarray \\\n",
    "    rioxarray\n",
    "    ```\n",
    "\n",
    "4. Install scientific computing stack\n",
    "\n",
    "   ```bash\n",
    "   conda install -c conda-forge numpy pandas matplotlib seaborn \\\n",
    "   scikit-learn scipy\n",
    "   ```\n",
    "\n",
    "5. Install Jupyter ecosystem\n",
    "\n",
    "   ```bash\n",
    "   conda install -c conda-forge jupyter jupyterlab ipykernel\n",
    "    ```\n",
    "5. Register the kernel\n",
    "\n",
    "   ```bash\n",
    "   ipython kernel install --user --name='rs-ml'\n",
    "   ```\n",
    "---\n",
    "\n",
    "## Reproducible Environment Sharing\n",
    "\n",
    "### Export Environment for Sharing\n",
    "\n",
    "```bash\n",
    "# Export exact environment (platform-specific)\n",
    "conda env export > environment-exact.yml\n",
    "```"
   ]
  },
  {
   "cell_type": "code",
   "execution_count": null,
   "id": "7a5ba5c3-f377-48d7-9635-f62418fb7572",
   "metadata": {},
   "outputs": [],
   "source": []
  }
 ],
 "metadata": {
  "kernelspec": {
   "display_name": "CV-ENV:Py3.13",
   "language": "python",
   "name": "cv-env"
  },
  "language_info": {
   "codemirror_mode": {
    "name": "ipython",
    "version": 3
   },
   "file_extension": ".py",
   "mimetype": "text/x-python",
   "name": "python",
   "nbconvert_exporter": "python",
   "pygments_lexer": "ipython3",
   "version": "3.13.2"
  }
 },
 "nbformat": 4,
 "nbformat_minor": 5
}
