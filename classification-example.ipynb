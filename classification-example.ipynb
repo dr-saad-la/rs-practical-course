{
 "cells": [
  {
   "cell_type": "markdown",
   "metadata": {
    "id": "nls9XFKuOyr2"
   },
   "source": [
    "# ML Classification Project - Land Cover Classification"
   ]
  },
  {
   "cell_type": "code",
   "execution_count": 2,
   "metadata": {
    "colab": {
     "base_uri": "https://localhost:8080/"
    },
    "id": "xv0NOTUvO5Gc",
    "outputId": "fbade80b-f262-44c8-9294-e9d11ed04aff"
   },
   "outputs": [
    {
     "name": "stdout",
     "output_type": "stream",
     "text": [
      "success!!\n"
     ]
    }
   ],
   "source": [
    "# Import necessary modules\n",
    "# ************************\n",
    "\n",
    "import ee\n",
    "import pandas as pd\n",
    "import numpy as np\n",
    "\n",
    "from sklearn.ensemble import RandomForestClassifier\n",
    "from sklearn.model_selection import train_test_split\n",
    "from sklearn.metrics import classification_report, confusion_matrix\n",
    "\n",
    "import matplotlib.pyplot as plt\n",
    "import seaborn as sns\n",
    "\n",
    "print(\"success!!\")"
   ]
  },
  {
   "cell_type": "code",
   "execution_count": 3,
   "metadata": {
    "id": "nuTalMaXPFF0"
   },
   "outputs": [],
   "source": [
    "# Authenticate the project\n",
    "ee.Authenticate()\n",
    "\n",
    "# Initialize Earth Engine\n",
    "ee.Initialize(project='project-id')"
   ]
  },
  {
   "cell_type": "code",
   "execution_count": 4,
   "metadata": {
    "colab": {
     "base_uri": "https://localhost:8080/"
    },
    "id": "EJpZItamO_Jb",
    "outputId": "c5a3e87f-1ab9-4b8d-82ee-faad5d597d46"
   },
   "outputs": [
    {
     "name": "stdout",
     "output_type": "stream",
     "text": [
      "Our Classification Scheme:\n",
      "  1: Water\n",
      "  2: Urban\n",
      "  3: Forest\n",
      "  4: Agriculture\n",
      "  5: Grassland\n",
      "  6: Barren\n"
     ]
    }
   ],
   "source": [
    "# Define our classification scheme\n",
    "LAND_COVER_CLASSES = {\n",
    "    1: 'Water',\n",
    "    2: 'Urban',\n",
    "    3: 'Forest',\n",
    "    4: 'Agriculture',\n",
    "    5: 'Grassland',\n",
    "    6: 'Barren'\n",
    "}\n",
    "\n",
    "print(\"Our Classification Scheme:\")\n",
    "for code, name in LAND_COVER_CLASSES.items():\n",
    "    print(f\"  {code}: {name}\")"
   ]
  },
  {
   "cell_type": "code",
   "execution_count": 5,
   "metadata": {
    "colab": {
     "base_uri": "https://localhost:8080/"
    },
    "id": "pweIxOWcPlHC",
    "outputId": "17ba72bf-16d1-4fef-f0b9-7bd3ce928f03"
   },
   "outputs": [
    {
     "name": "stdout",
     "output_type": "stream",
     "text": [
      "Study area defined and base image prepared\n",
      "Study area: approximately 4007.0 km²\n"
     ]
    }
   ],
   "source": [
    "# Define study area - Mediterranean coastal region (example: Valencia, Spain region)\n",
    "# You can modify these coordinates for your preferred study area\n",
    "study_area = ee.Geometry.Rectangle([-0.5, 39.2, 0.2, 39.8])\n",
    "\n",
    "# Visualize the study area\n",
    "def create_study_area_map():\n",
    "    \"\"\"Create a simple visualization of our study area\"\"\"\n",
    "    # Get a recent Sentinel-2 image for visualization\n",
    "    s2_viz = (ee.ImageCollection('COPERNICUS/S2_SR_HARMONIZED')\n",
    "              .filterBounds(study_area)\n",
    "              .filterDate('2023-06-01', '2023-09-30')\n",
    "              .filter(ee.Filter.lt('CLOUDY_PIXEL_PERCENTAGE', 20))\n",
    "              .median())\n",
    "\n",
    "    # True color visualization parameters\n",
    "    viz_params = {\n",
    "        'min': 0,\n",
    "        'max': 3000,\n",
    "        'bands': ['B4', 'B3', 'B2']\n",
    "    }\n",
    "\n",
    "    return s2_viz, viz_params\n",
    "\n",
    "base_image, viz_params = create_study_area_map()\n",
    "print(\"Study area defined and base image prepared\")\n",
    "\n",
    "# Get basic information about our study area\n",
    "area_info = study_area.area().divide(1000000).getInfo()  # Convert to km²\n",
    "print(f\"Study area: approximately {area_info:.1f} km²\")"
   ]
  },
  {
   "cell_type": "code",
   "execution_count": 6,
   "metadata": {
    "colab": {
     "base_uri": "https://localhost:8080/"
    },
    "id": "CyXfbnijPvcr",
    "outputId": "ddb7eb91-9a57-497a-f903-90ab4e0cbaf3"
   },
   "outputs": [],
   "source": [
    "def create_feature_collection(image_collection, study_region):\n",
    "    \"\"\"\n",
    "    Extract comprehensive features from Sentinel-2 imagery\n",
    "\n",
    "    Think about this step: Why are we creating features rather than\n",
    "    using raw spectral bands directly?\n",
    "    \"\"\"\n",
    "\n",
    "    def add_spectral_indices(image):\n",
    "        \"\"\"Add spectral indices that highlight different land cover properties\"\"\"\n",
    "\n",
    "        # Vegetation indices\n",
    "        ndvi = image.normalizedDifference(['B8', 'B4']).rename('NDVI')\n",
    "        evi = image.expression(\n",
    "            '2.5 * ((NIR - RED) / (NIR + 6 * RED - 7.5 * BLUE + 1))',\n",
    "            {\n",
    "                'NIR': image.select('B8'),\n",
    "                'RED': image.select('B4'),\n",
    "                'BLUE': image.select('B2')\n",
    "            }\n",
    "        ).rename('EVI')\n",
    "\n",
    "        # Red-edge indices (unique to Sentinel-2)\n",
    "        rendvi = image.normalizedDifference(['B8', 'B5']).rename('RENDVI')\n",
    "\n",
    "        # Water indices\n",
    "        ndwi = image.normalizedDifference(['B3', 'B8']).rename('NDWI')\n",
    "        mndwi = image.normalizedDifference(['B3', 'B11']).rename('MNDWI')\n",
    "\n",
    "        # Built-up indices\n",
    "        ndbi = image.normalizedDifference(['B11', 'B8']).rename('NDBI')\n",
    "\n",
    "        # Soil indices\n",
    "        ndsi = image.normalizedDifference(['B11', 'B12']).rename('NDSI')\n",
    "\n",
    "        return image.addBands([ndvi, evi, rendvi, ndwi, mndwi, ndbi, ndsi])\n",
    "\n",
    "    # Apply feature extraction to collection\n",
    "    featured_collection = image_collection.map(add_spectral_indices)\n",
    "\n",
    "    return featured_collection"
   ]
  },
  {
   "cell_type": "code",
   "execution_count": 7,
   "metadata": {
    "colab": {
     "base_uri": "https://localhost:8080/"
    },
    "id": "CyXfbnijPvcr",
    "outputId": "ddb7eb91-9a57-497a-f903-90ab4e0cbaf3"
   },
   "outputs": [
    {
     "name": "stdout",
     "output_type": "stream",
     "text": [
      "Found 56 Sentinel-2 images\n"
     ]
    }
   ],
   "source": [
    "# Load and prepare Sentinel-2 data\n",
    "s2_collection = (ee.ImageCollection('COPERNICUS/S2_SR_HARMONIZED')\n",
    "                 .filterBounds(study_area)\n",
    "                 .filterDate('2023-06-01', '2023-09-30')  # Summer period\n",
    "                 .filter(ee.Filter.lt('CLOUDY_PIXEL_PERCENTAGE', 15)))\n",
    "\n",
    "print(f\"Found {s2_collection.size().getInfo()} Sentinel-2 images\")"
   ]
  },
  {
   "cell_type": "code",
   "execution_count": 8,
   "metadata": {
    "colab": {
     "base_uri": "https://localhost:8080/"
    },
    "id": "CyXfbnijPvcr",
    "outputId": "ddb7eb91-9a57-497a-f903-90ab4e0cbaf3"
   },
   "outputs": [
    {
     "name": "stdout",
     "output_type": "stream",
     "text": [
      "After cloud masking: 56 images\n"
     ]
    }
   ],
   "source": [
    "# Apply cloud masking\n",
    "def mask_s2_clouds(image):\n",
    "    \"\"\"Simple cloud masking using SCL band\"\"\"\n",
    "    scl = image.select('SCL')\n",
    "    # Keep vegetation, not-vegetated, water, unclassified (remove clouds, shadows, etc.)\n",
    "    clear_mask = scl.lt(8).And(scl.neq(3)).And(scl.neq(2)).And(scl.neq(1)).And(scl.neq(0))\n",
    "    return image.updateMask(clear_mask)\n",
    "\n",
    "s2_cleaned = s2_collection.map(mask_s2_clouds)\n",
    "print(f\"After cloud masking: {s2_cleaned.size().getInfo()} images\")"
   ]
  },
  {
   "cell_type": "code",
   "execution_count": 9,
   "metadata": {
    "colab": {
     "base_uri": "https://localhost:8080/"
    },
    "id": "CyXfbnijPvcr",
    "outputId": "ddb7eb91-9a57-497a-f903-90ab4e0cbaf3"
   },
   "outputs": [],
   "source": [
    "# Create feature-rich collection\n",
    "s2_featured = create_feature_collection(s2_cleaned, study_area)\n",
    "\n",
    "# Create median composite for training\n",
    "median_composite = s2_featured.median()"
   ]
  },
  {
   "cell_type": "markdown",
   "metadata": {
    "id": "AOnxtINdP49E"
   },
   "source": [
    "## Training"
   ]
  },
  {
   "cell_type": "code",
   "execution_count": 10,
   "metadata": {
    "colab": {
     "base_uri": "https://localhost:8080/"
    },
    "id": "olyMTiU_QBis",
    "outputId": "cb54ac1b-139a-4886-e9f8-eb32b26d5fbd"
   },
   "outputs": [
    {
     "name": "stdout",
     "output_type": "stream",
     "text": [
      "Total features available: 17\n",
      "Features: ['B2', 'B3', 'B4', 'B5', 'B6', 'B7', 'B8', 'B8A', 'B11', 'B12', 'NDVI', 'EVI', 'RENDVI', 'NDWI', 'MNDWI', 'NDBI', 'NDSI']\n"
     ]
    }
   ],
   "source": [
    "# Define our feature set for classification\n",
    "SPECTRAL_BANDS = ['B2', 'B3', 'B4', 'B5', 'B6', 'B7', 'B8', 'B8A', 'B11', 'B12']\n",
    "DERIVED_FEATURES = ['NDVI', 'EVI', 'RENDVI', 'NDWI', 'MNDWI', 'NDBI', 'NDSI']\n",
    "\n",
    "ALL_FEATURES = SPECTRAL_BANDS + DERIVED_FEATURES\n",
    "print(f\"Total features available: {len(ALL_FEATURES)}\")\n",
    "print(\"Features:\", ALL_FEATURES)\n",
    "\n",
    "# Select features for our composite\n",
    "training_composite = median_composite.select(ALL_FEATURES)"
   ]
  },
  {
   "cell_type": "code",
   "execution_count": 11,
   "metadata": {
    "colab": {
     "base_uri": "https://localhost:8080/"
    },
    "id": "pbnZCu97P7QR",
    "outputId": "968447c6-870b-4ca2-dae1-d1b2359f275d"
   },
   "outputs": [
    {
     "name": "stdout",
     "output_type": "stream",
     "text": [
      "Generated training points: 600\n"
     ]
    }
   ],
   "source": [
    "def create_training_data_strategy():\n",
    "    \"\"\"\n",
    "    Design a robust training data collection approach\n",
    "\n",
    "    Think about: What makes training data 'good' vs 'bad'?\n",
    "    \"\"\"\n",
    "\n",
    "    # Define sampling points for each class\n",
    "    # In practice, you might digitize these interactively or use existing reference data\n",
    "    training_points = {\n",
    "        'water': [\n",
    "            [-0.1, 39.5], [-0.3, 39.4], [0.0, 39.6]\n",
    "        ],\n",
    "        'urban': [\n",
    "            [-0.4, 39.4], [-0.1, 39.3], [0.1, 39.5]\n",
    "        ],\n",
    "        'forest': [\n",
    "            [-0.2, 39.7], [0.0, 39.8], [-0.1, 39.7]\n",
    "        ],\n",
    "        'agriculture': [\n",
    "            [-0.3, 39.6], [0.1, 39.4], [-0.2, 39.3]\n",
    "        ],\n",
    "        'grassland': [\n",
    "            [0.0, 39.4], [-0.1, 39.6], [0.1, 39.7]\n",
    "        ],\n",
    "        'barren': [\n",
    "            [-0.4, 39.3], [0.1, 39.3], [-0.2, 39.5]\n",
    "        ]\n",
    "    }\n",
    "\n",
    "    return training_points\n",
    "\n",
    "# For this exercise, we'll use a systematic sampling approach\n",
    "def generate_training_samples(image, region, samples_per_class=50):\n",
    "    \"\"\"\n",
    "    Generate training samples using a stratified random approach\n",
    "\n",
    "    Discussion: What are the pros and cons of this automated approach\n",
    "    versus manual digitization?\n",
    "    \"\"\"\n",
    "\n",
    "    training_data = ee.FeatureCollection([])\n",
    "\n",
    "    # This is a simplified approach - in practice, you'd want more sophisticated methods\n",
    "    # For each class, we'll create sample points and assign labels\n",
    "\n",
    "    class_samples = []\n",
    "    for class_code, class_name in LAND_COVER_CLASSES.items():\n",
    "        # Create random points within region\n",
    "        points = ee.FeatureCollection.randomPoints(region, samples_per_class, seed=42+class_code)\n",
    "\n",
    "        # Add class label\n",
    "        labeled_points = points.map(lambda feat: feat.set('landcover', class_code))\n",
    "        class_samples.append(labeled_points)\n",
    "\n",
    "    # Combine all samples\n",
    "    all_samples = ee.FeatureCollection(class_samples).flatten()\n",
    "\n",
    "    return all_samples\n",
    "\n",
    "# Create training sample points\n",
    "training_points = generate_training_samples(training_composite, study_area, samples_per_class=100)\n",
    "print(f\"Generated training points: {training_points.size().getInfo()}\")"
   ]
  },
  {
   "cell_type": "code",
   "execution_count": 12,
   "metadata": {
    "colab": {
     "base_uri": "https://localhost:8080/"
    },
    "id": "eIEvYVa8QHuV",
    "outputId": "83166c69-32e4-4b6c-c6d0-9e7eecc9cfbf"
   },
   "outputs": [],
   "source": [
    "### Extracting Training Features\n",
    "\n",
    "def extract_training_features(image, training_points, scale=10):\n",
    "    \"\"\"\n",
    "    Extract feature values at training point locations\n",
    "\n",
    "    Think about: Why is the scale parameter important here?\n",
    "    \"\"\"\n",
    "\n",
    "    # Sample the image at training point locations\n",
    "    training_data = image.sampleRegions(\n",
    "        collection=training_points,\n",
    "        properties=['landcover'],\n",
    "        scale=scale,\n",
    "        projection='EPSG:4326'\n",
    "    )\n",
    "\n",
    "    return training_data"
   ]
  },
  {
   "cell_type": "code",
   "execution_count": 13,
   "metadata": {
    "colab": {
     "base_uri": "https://localhost:8080/"
    },
    "id": "eIEvYVa8QHuV",
    "outputId": "83166c69-32e4-4b6c-c6d0-9e7eecc9cfbf"
   },
   "outputs": [],
   "source": [
    "# Extract features for our training points\n",
    "training_features = extract_training_features(training_composite, training_points)"
   ]
  },
  {
   "cell_type": "code",
   "execution_count": 14,
   "metadata": {
    "colab": {
     "base_uri": "https://localhost:8080/"
    },
    "id": "eIEvYVa8QHuV",
    "outputId": "83166c69-32e4-4b6c-c6d0-9e7eecc9cfbf"
   },
   "outputs": [
    {
     "name": "stdout",
     "output_type": "stream",
     "text": [
      "Training dataset shape: (600, 18)\n",
      "Features: ['B11', 'B12', 'B2', 'B3', 'B4', 'B5', 'B6', 'B7', 'B8', 'B8A', 'EVI', 'MNDWI', 'NDBI', 'NDSI', 'NDVI', 'NDWI', 'RENDVI', 'landcover']\n"
     ]
    }
   ],
   "source": [
    "# Convert to pandas DataFrame for analysis\n",
    "def ee_to_pandas(ee_feature_collection):\n",
    "    \"\"\"Convert Earth Engine FeatureCollection to pandas DataFrame\"\"\"\n",
    "\n",
    "    # Get the data\n",
    "    features = ee_feature_collection.getInfo()['features']\n",
    "\n",
    "    # Extract properties into list of dictionaries\n",
    "    data = [feature['properties'] for feature in features]\n",
    "\n",
    "    # Convert to DataFrame\n",
    "    df = pd.DataFrame(data)\n",
    "\n",
    "    return df\n",
    "\n",
    "training_df = ee_to_pandas(training_features)\n",
    "print(f\"Training dataset shape: {training_df.shape}\")\n",
    "print(f\"Features: {list(training_df.columns)}\")"
   ]
  },
  {
   "cell_type": "code",
   "execution_count": 15,
   "metadata": {
    "colab": {
     "base_uri": "https://localhost:8080/"
    },
    "id": "eIEvYVa8QHuV",
    "outputId": "83166c69-32e4-4b6c-c6d0-9e7eecc9cfbf"
   },
   "outputs": [
    {
     "name": "stdout",
     "output_type": "stream",
     "text": [
      "\n",
      "Class distribution in training data:\n",
      "landcover\n",
      "1    100\n",
      "2    100\n",
      "3    100\n",
      "4    100\n",
      "5    100\n",
      "6    100\n",
      "Name: count, dtype: int64\n"
     ]
    }
   ],
   "source": [
    "# Check class distribution\n",
    "# *************************\n",
    "print(\"\\nClass distribution in training data:\")\n",
    "print(training_df['landcover'].value_counts().sort_index())"
   ]
  },
  {
   "cell_type": "code",
   "execution_count": 16,
   "metadata": {
    "colab": {
     "base_uri": "https://localhost:8080/"
    },
    "id": "feM72ScJQS0x",
    "outputId": "c096d8c6-0d85-42ed-b993-31bf133b9419"
   },
   "outputs": [],
   "source": [
    "# Model Implementation and Training\n",
    "# *********************************\n",
    "def prepare_training_data(training_df, feature_columns):\n",
    "    \"\"\"\n",
    "    Prepare training data for scikit-learn\n",
    "\n",
    "    Consider: What preprocessing steps might be important?\n",
    "    \"\"\"\n",
    "\n",
    "    # Remove any rows with missing data\n",
    "    clean_df = training_df.dropna()\n",
    "    print(f\"After removing NaN values: {len(clean_df)} samples\")\n",
    "\n",
    "    # Separate features and labels\n",
    "    X = clean_df[feature_columns].values\n",
    "    y = clean_df['landcover'].values\n",
    "\n",
    "    print(f\"Feature matrix shape: {X.shape}\")\n",
    "    print(f\"Label vector shape: {y.shape}\")\n",
    "\n",
    "    return X, y, clean_df"
   ]
  },
  {
   "cell_type": "code",
   "execution_count": 17,
   "metadata": {
    "colab": {
     "base_uri": "https://localhost:8080/"
    },
    "id": "feM72ScJQS0x",
    "outputId": "c096d8c6-0d85-42ed-b993-31bf133b9419"
   },
   "outputs": [
    {
     "name": "stdout",
     "output_type": "stream",
     "text": [
      "After removing NaN values: 600 samples\n",
      "Feature matrix shape: (600, 17)\n",
      "Label vector shape: (600,)\n",
      "Training set: 420 samples\n",
      "Validation set: 180 samples\n"
     ]
    }
   ],
   "source": [
    "# Prepare training data\n",
    "feature_columns = [col for col in training_df.columns if col != 'landcover']\n",
    "X_train_full, y_train_full, clean_training_df = prepare_training_data(training_df, feature_columns)\n",
    "\n",
    "# Split into training and validation sets\n",
    "X_train, X_val, y_train, y_val = train_test_split(\n",
    "    X_train_full, y_train_full,\n",
    "    test_size=0.3,\n",
    "    random_state=42,\n",
    "    stratify=y_train_full\n",
    ")\n",
    "\n",
    "print(f\"Training set: {X_train.shape[0]} samples\")\n",
    "print(f\"Validation set: {X_val.shape[0]} samples\")"
   ]
  },
  {
   "cell_type": "code",
   "execution_count": 18,
   "metadata": {
    "colab": {
     "base_uri": "https://localhost:8080/"
    },
    "id": "1Wobtur6QcZ6",
    "outputId": "12b5b1ef-6e5d-45df-8769-77bda806462b"
   },
   "outputs": [],
   "source": [
    "# Training Process\n",
    "# ****************\n",
    "\n",
    "def train_random_forest_model(X_train, y_train, **rf_params):\n",
    "    \"\"\"\n",
    "    Train Random Forest model with specified parameters\n",
    "\n",
    "    Question: How would you choose optimal hyperparameters?\n",
    "    \"\"\"\n",
    "\n",
    "    # Default parameters - discuss why these values make sense\n",
    "    default_params = {\n",
    "        'n_estimators': 100,\n",
    "        'max_features': 'sqrt',\n",
    "        'max_depth': None,\n",
    "        'random_state': 42,\n",
    "        'n_jobs': -1\n",
    "    }\n",
    "\n",
    "    # Update with any provided parameters\n",
    "    default_params.update(rf_params)\n",
    "\n",
    "    print(\"Training Random Forest with parameters:\")\n",
    "    for param, value in default_params.items():\n",
    "        print(f\"  {param}: {value}\")\n",
    "\n",
    "    # Create and train model\n",
    "    rf_model = RandomForestClassifier(**default_params)\n",
    "    rf_model.fit(X_train, y_train)\n",
    "\n",
    "    return rf_model"
   ]
  },
  {
   "cell_type": "code",
   "execution_count": 19,
   "metadata": {
    "colab": {
     "base_uri": "https://localhost:8080/"
    },
    "id": "1Wobtur6QcZ6",
    "outputId": "12b5b1ef-6e5d-45df-8769-77bda806462b"
   },
   "outputs": [
    {
     "name": "stdout",
     "output_type": "stream",
     "text": [
      "Training Random Forest with parameters:\n",
      "  n_estimators: 100\n",
      "  max_features: sqrt\n",
      "  max_depth: None\n",
      "  random_state: 42\n",
      "  n_jobs: -1\n",
      "Model training completed!\n"
     ]
    }
   ],
   "source": [
    "# Train the model\n",
    "rf_classifier = train_random_forest_model(X_train, y_train)\n",
    "print(\"Model training completed!\")"
   ]
  },
  {
   "cell_type": "code",
   "execution_count": 20,
   "metadata": {
    "colab": {
     "base_uri": "https://localhost:8080/",
     "height": 1000
    },
    "id": "cfwenE3lOpaq",
    "outputId": "edc19ec4-7962-4902-8579-911175e0e3dd"
   },
   "outputs": [],
   "source": [
    "##  Model Evaluation and Interpretation\n",
    "\n",
    "### Initial Performance Assessment\n",
    "\n",
    "def evaluate_model_performance(model, X_val, y_val, class_names):\n",
    "    \"\"\"\n",
    "    Comprehensive model evaluation\n",
    "\n",
    "    Question: Which metrics are most important for land cover classification?\n",
    "    \"\"\"\n",
    "\n",
    "    # Make predictions\n",
    "    y_pred = model.predict(X_val)\n",
    "\n",
    "    # Calculate basic metrics\n",
    "    from sklearn.metrics import accuracy_score, cohen_kappa_score\n",
    "\n",
    "    accuracy = accuracy_score(y_val, y_pred)\n",
    "    kappa = cohen_kappa_score(y_val, y_pred)\n",
    "\n",
    "    print(f\"Overall Accuracy: {accuracy:.4f}\")\n",
    "    print(f\"Cohen's Kappa: {kappa:.4f}\")\n",
    "\n",
    "    # Detailed classification report\n",
    "    print(\"\\nDetailed Classification Report:\")\n",
    "    report = classification_report(y_val, y_pred,\n",
    "                                 target_names=[class_names[i] for i in sorted(class_names.keys())],\n",
    "                                 output_dict=True)\n",
    "\n",
    "    print(classification_report(y_val, y_pred,\n",
    "                               target_names=[class_names[i] for i in sorted(class_names.keys())]))\n",
    "\n",
    "    return y_pred, report"
   ]
  },
  {
   "cell_type": "code",
   "execution_count": 21,
   "metadata": {
    "colab": {
     "base_uri": "https://localhost:8080/",
     "height": 1000
    },
    "id": "cfwenE3lOpaq",
    "outputId": "edc19ec4-7962-4902-8579-911175e0e3dd"
   },
   "outputs": [
    {
     "name": "stdout",
     "output_type": "stream",
     "text": [
      "Overall Accuracy: 0.2167\n",
      "Cohen's Kappa: 0.0600\n",
      "\n",
      "Detailed Classification Report:\n",
      "              precision    recall  f1-score   support\n",
      "\n",
      "       Water       0.25      0.27      0.26        30\n",
      "       Urban       0.19      0.23      0.21        30\n",
      "      Forest       0.19      0.20      0.20        30\n",
      " Agriculture       0.26      0.23      0.25        30\n",
      "   Grassland       0.26      0.17      0.20        30\n",
      "      Barren       0.17      0.20      0.18        30\n",
      "\n",
      "    accuracy                           0.22       180\n",
      "   macro avg       0.22      0.22      0.22       180\n",
      "weighted avg       0.22      0.22      0.22       180\n",
      "\n"
     ]
    }
   ],
   "source": [
    "# Evaluate our model\n",
    "y_pred, performance_report = evaluate_model_performance(\n",
    "    rf_classifier,\n",
    "    X_val,\n",
    "    y_val,\n",
    "    LAND_COVER_CLASSES)"
   ]
  },
  {
   "cell_type": "code",
   "execution_count": 22,
   "metadata": {
    "colab": {
     "base_uri": "https://localhost:8080/",
     "height": 1000
    },
    "id": "cfwenE3lOpaq",
    "outputId": "edc19ec4-7962-4902-8579-911175e0e3dd"
   },
   "outputs": [],
   "source": [
    "# Confusion Matrix Analysis\n",
    "def create_confusion_matrix_analysis(y_true, y_pred, class_names):\n",
    "    \"\"\"\n",
    "    Create and analyze confusion matrix\n",
    "\n",
    "    Discussion: What patterns in confusion matrices indicate different types of problems?\n",
    "    \"\"\"\n",
    "\n",
    "    # Calculate confusion matrix\n",
    "    cm = confusion_matrix(y_true, y_pred)\n",
    "\n",
    "    # Create labels\n",
    "    class_labels = [class_names[i] for i in sorted(class_names.keys())]\n",
    "\n",
    "    # Visualization\n",
    "    plt.figure(figsize=(10, 8))\n",
    "    sns.heatmap(cm, annot=True, fmt='d', cmap='Blues',\n",
    "                xticklabels=class_labels, yticklabels=class_labels)\n",
    "    plt.title('Confusion Matrix')\n",
    "    plt.xlabel('Predicted')\n",
    "    plt.ylabel('Actual')\n",
    "    plt.show()\n",
    "\n",
    "    # Analyze confusion patterns\n",
    "    print(\"Confusion Matrix Analysis:\")\n",
    "    print(\"=\" * 40)\n",
    "\n",
    "    for i, true_class in enumerate(class_labels):\n",
    "        for j, pred_class in enumerate(class_labels):\n",
    "            if i != j and cm[i, j] > 0:\n",
    "                confusion_rate = cm[i, j] / cm[i, :].sum()\n",
    "                if confusion_rate > 0.1:  # Only report significant confusions\n",
    "                    print(f\"{true_class} confused with {pred_class}: {cm[i, j]} samples ({confusion_rate:.1%})\")\n",
    "\n",
    "    return cm"
   ]
  },
  {
   "cell_type": "code",
   "execution_count": 23,
   "metadata": {
    "colab": {
     "base_uri": "https://localhost:8080/",
     "height": 1000
    },
    "id": "cfwenE3lOpaq",
    "outputId": "edc19ec4-7962-4902-8579-911175e0e3dd"
   },
   "outputs": [
    {
     "data": {
      "image/png": "[encoded data removed]",
      "text/plain": [
       "<Figure size 1000x800 with 2 Axes>"
      ]
     },
     "metadata": {},
     "output_type": "display_data"
    },
    {
     "name": "stdout",
     "output_type": "stream",
     "text": [
      "Confusion Matrix Analysis:\n",
      "========================================\n",
      "Water confused with Urban: 5 samples (16.7%)\n",
      "Water confused with Forest: 6 samples (20.0%)\n",
      "Water confused with Agriculture: 4 samples (13.3%)\n",
      "Water confused with Barren: 6 samples (20.0%)\n",
      "Urban confused with Forest: 5 samples (16.7%)\n",
      "Urban confused with Grassland: 4 samples (13.3%)\n",
      "Urban confused with Barren: 8 samples (26.7%)\n",
      "Forest confused with Water: 7 samples (23.3%)\n",
      "Forest confused with Urban: 4 samples (13.3%)\n",
      "Forest confused with Agriculture: 5 samples (16.7%)\n",
      "Forest confused with Barren: 5 samples (16.7%)\n",
      "Agriculture confused with Water: 9 samples (30.0%)\n",
      "Agriculture confused with Urban: 4 samples (13.3%)\n",
      "Agriculture confused with Forest: 4 samples (13.3%)\n",
      "Agriculture confused with Barren: 4 samples (13.3%)\n",
      "Grassland confused with Urban: 8 samples (26.7%)\n",
      "Grassland confused with Forest: 6 samples (20.0%)\n",
      "Grassland confused with Agriculture: 4 samples (13.3%)\n",
      "Grassland confused with Barren: 6 samples (20.0%)\n",
      "Barren confused with Water: 4 samples (13.3%)\n",
      "Barren confused with Urban: 8 samples (26.7%)\n",
      "Barren confused with Forest: 4 samples (13.3%)\n",
      "Barren confused with Agriculture: 4 samples (13.3%)\n",
      "Barren confused with Grassland: 4 samples (13.3%)\n"
     ]
    }
   ],
   "source": [
    "# Analyze confusion patterns\n",
    "confusion_matrix_result = create_confusion_matrix_analysis(y_val, y_pred, LAND_COVER_CLASSES)"
   ]
  },
  {
   "cell_type": "code",
   "execution_count": 24,
   "metadata": {
    "colab": {
     "base_uri": "https://localhost:8080/",
     "height": 1000
    },
    "id": "cfwenE3lOpaq",
    "outputId": "edc19ec4-7962-4902-8579-911175e0e3dd"
   },
   "outputs": [],
   "source": [
    "### Feature Importance Analysis\n",
    "\n",
    "def analyze_feature_importance(model, feature_names):\n",
    "    \"\"\"\n",
    "    Analyze and visualize feature importance\n",
    "\n",
    "    Think about: How do you interpret feature importance scores?\n",
    "    \"\"\"\n",
    "\n",
    "    # Get feature importance scores\n",
    "    importance_scores = model.feature_importances_\n",
    "\n",
    "    # Create importance dataframe\n",
    "    importance_df = pd.DataFrame({\n",
    "        'feature': feature_names,\n",
    "        'importance': importance_scores\n",
    "    }).sort_values('importance', ascending=False)\n",
    "\n",
    "    # Visualization\n",
    "    plt.figure(figsize=(12, 8))\n",
    "    top_features = importance_df.head(15)  # Show top 15\n",
    "\n",
    "    sns.barplot(data=top_features, x='importance', y='feature')\n",
    "    plt.title('Top 15 Most Important Features')\n",
    "    plt.xlabel('Feature Importance')\n",
    "    plt.tight_layout()\n",
    "    plt.show()\n",
    "\n",
    "    # Print top features\n",
    "    print(\"Top 10 Most Important Features:\")\n",
    "    for i, (_, row) in enumerate(importance_df.head(10).iterrows()):\n",
    "        print(f\"{i+1:2d}. {row['feature']:<12} {row['importance']:.4f}\")\n",
    "\n",
    "    return importance_df"
   ]
  },
  {
   "cell_type": "code",
   "execution_count": 25,
   "metadata": {
    "colab": {
     "base_uri": "https://localhost:8080/",
     "height": 1000
    },
    "id": "cfwenE3lOpaq",
    "outputId": "edc19ec4-7962-4902-8579-911175e0e3dd"
   },
   "outputs": [
    {
     "data": {
      "image/png": "[encoded data removed]",
      "text/plain": [
       "<Figure size 1200x800 with 1 Axes>"
      ]
     },
     "metadata": {},
     "output_type": "display_data"
    },
    {
     "name": "stdout",
     "output_type": "stream",
     "text": [
      "Top 10 Most Important Features:\n",
      " 1. B2           0.0701\n",
      " 2. RENDVI       0.0689\n",
      " 3. B3           0.0648\n",
      " 4. NDSI         0.0627\n",
      " 5. NDBI         0.0617\n",
      " 6. B12          0.0611\n",
      " 7. MNDWI        0.0603\n",
      " 8. EVI          0.0589\n",
      " 9. B4           0.0565\n",
      "10. NDWI         0.0561\n"
     ]
    }
   ],
   "source": [
    "# Analyze feature importance\n",
    "feature_importance_df = analyze_feature_importance(rf_classifier, feature_columns)"
   ]
  },
  {
   "cell_type": "code",
   "execution_count": 26,
   "metadata": {
    "colab": {
     "base_uri": "https://localhost:8080/",
     "height": 1000
    },
    "id": "cfwenE3lOpaq",
    "outputId": "edc19ec4-7962-4902-8579-911175e0e3dd"
   },
   "outputs": [],
   "source": [
    "##  Applying the Model to the Full Study Area\n",
    "\n",
    "### Creating the Classification Map\n",
    "\n",
    "\n",
    "def apply_model_to_image(trained_model, feature_names, ee_image, study_region):\n",
    "    \"\"\"\n",
    "    Apply trained scikit-learn model to Earth Engine image\n",
    "\n",
    "    Challenge: How do we bridge between scikit-learn and Earth Engine?\n",
    "    \"\"\"\n",
    "\n",
    "    # This is a conceptual framework - in practice, you'd use Earth Engine's\n",
    "    # classifier.smileRandomForest() or export data for local processing\n",
    "\n",
    "    print(\"Model application strategy:\")\n",
    "    print(\"1. Export image features to local environment\")\n",
    "    print(\"2. Apply scikit-learn model\")\n",
    "    print(\"3. Create classification map\")\n",
    "\n",
    "    # For demonstration, let's sample the image at a grid of points\n",
    "    # In practice, you might export the full image or use Earth Engine's classifiers\n",
    "\n",
    "    # Create a grid of points for demonstration\n",
    "    grid_points = ee.FeatureCollection.randomPoints(study_region, 1000, seed=42)\n",
    "\n",
    "    # Sample the image at these points\n",
    "    sampled_data = ee_image.sampleRegions(\n",
    "        collection=grid_points,\n",
    "        properties=[],\n",
    "        scale=10,\n",
    "        projection='EPSG:4326'\n",
    "    )\n",
    "\n",
    "    return sampled_data"
   ]
  },
  {
   "cell_type": "code",
   "execution_count": 27,
   "metadata": {
    "colab": {
     "base_uri": "https://localhost:8080/",
     "height": 1000
    },
    "id": "cfwenE3lOpaq",
    "outputId": "edc19ec4-7962-4902-8579-911175e0e3dd"
   },
   "outputs": [
    {
     "name": "stdout",
     "output_type": "stream",
     "text": [
      "Model application strategy:\n",
      "1. Export image features to local environment\n",
      "2. Apply scikit-learn model\n",
      "3. Create classification map\n"
     ]
    }
   ],
   "source": [
    "# Apply model (demonstration approach)\n",
    "classification_samples = apply_model_to_image(rf_classifier, feature_columns, training_composite, study_area)"
   ]
  },
  {
   "cell_type": "code",
   "execution_count": null,
   "metadata": {
    "colab": {
     "base_uri": "https://localhost:8080/",
     "height": 1000
    },
    "id": "cfwenE3lOpaq",
    "outputId": "edc19ec4-7962-4902-8579-911175e0e3dd"
   },
   "outputs": [
    {
     "name": "stdout",
     "output_type": "stream",
     "text": [
      "Classification sampling completed\n"
     ]
    }
   ],
   "source": [
    "print(\"Classification sampling completed\")\n",
    "print(f\"Generated {classification_samples.size().getInfo()} classification samples\")"
   ]
  },
  {
   "cell_type": "code",
   "execution_count": null,
   "metadata": {
    "colab": {
     "base_uri": "https://localhost:8080/",
     "height": 1000
    },
    "id": "cfwenE3lOpaq",
    "outputId": "edc19ec4-7962-4902-8579-911175e0e3dd"
   },
   "outputs": [],
   "source": [
    "### Validation Strategy for Full Classification\n",
    "\n",
    "def design_validation_strategy():\n",
    "    \"\"\"\n",
    "    Design a strategy for validating the full classification\n",
    "\n",
    "    Discuss: What makes a validation strategy robust and reliable?\n",
    "    \"\"\"\n",
    "\n",
    "    validation_approaches = {\n",
    "        'independent_samples': {\n",
    "            'description': 'Collect new ground truth samples not used in training',\n",
    "            'pros': ['Unbiased assessment', 'True performance estimate'],\n",
    "            'cons': ['Requires additional fieldwork', 'Time and cost intensive'],\n",
    "            'when_to_use': 'High-stakes applications, research publications'\n",
    "        },\n",
    "\n",
    "        'visual_assessment': {\n",
    "            'description': 'Expert visual review of classification results',\n",
    "            'pros': ['Quick implementation', 'Can identify systematic errors'],\n",
    "            'cons': ['Subjective', 'Limited sample size', 'Expert bias'],\n",
    "            'when_to_use': 'Rapid prototyping, internal quality checks'\n",
    "        },\n",
    "\n",
    "        'cross_validation': {\n",
    "            'description': 'Use holdout portions of training data',\n",
    "            'pros': ['No additional data needed', 'Statistical rigor'],\n",
    "            'cons': ['May not represent full study area', 'Spatial autocorrelation issues'],\n",
    "            'when_to_use': 'Development phase, parameter tuning'\n",
    "        },\n",
    "\n",
    "        'reference_datasets': {\n",
    "            'description': 'Compare against existing land cover products',\n",
    "            'pros': ['Readily available', 'Large area coverage'],\n",
    "            'cons': ['May have different class definitions', 'Unknown accuracy'],\n",
    "            'when_to_use': 'Relative comparison, consistency checking'\n",
    "        }\n",
    "    }\n",
    "\n",
    "    return validation_approaches"
   ]
  },
  {
   "cell_type": "code",
   "execution_count": null,
   "metadata": {
    "colab": {
     "base_uri": "https://localhost:8080/",
     "height": 1000
    },
    "id": "cfwenE3lOpaq",
    "outputId": "edc19ec4-7962-4902-8579-911175e0e3dd"
   },
   "outputs": [],
   "source": [
    "validation_strategies = design_validation_strategy()"
   ]
  },
  {
   "cell_type": "code",
   "execution_count": null,
   "metadata": {
    "colab": {
     "base_uri": "https://localhost:8080/",
     "height": 1000
    },
    "id": "cfwenE3lOpaq",
    "outputId": "edc19ec4-7962-4902-8579-911175e0e3dd"
   },
   "outputs": [],
   "source": [
    "print(\"Validation Strategy Options:\")\n",
    "for strategy, details in validation_strategies.items():\n",
    "    print(f\"\\n{strategy.upper().replace('_', ' ')}:\")\n",
    "    print(f\"  Description: {details['description']}\")\n",
    "    print(f\"  Best for: {details['when_to_use']}\")"
   ]
  },
  {
   "cell_type": "code",
   "execution_count": null,
   "metadata": {},
   "outputs": [],
   "source": []
  }
 ],
 "metadata": {
  "colab": {
   "provenance": []
  },
  "kernelspec": {
   "display_name": "GEE-Env:Py3.11",
   "language": "python",
   "name": "gee-env"
  },
  "language_info": {
   "codemirror_mode": {
    "name": "ipython",
    "version": 3
   },
   "file_extension": ".py",
   "mimetype": "text/x-python",
   "name": "python",
   "nbconvert_exporter": "python",
   "pygments_lexer": "ipython3",
   "version": "3.11.0"
  }
 },
 "nbformat": 4,
 "nbformat_minor": 4
}
